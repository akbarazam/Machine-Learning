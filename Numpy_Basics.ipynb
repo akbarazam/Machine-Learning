{
  "cells": [
    {
      "cell_type": "markdown",
      "metadata": {
        "id": "570rcOqhYjTL"
      },
      "source": [
        "# 1. The Numpy Package"
      ]
    },
    {
      "cell_type": "markdown",
      "metadata": {
        "id": "uXvuRqLQYjTQ"
      },
      "source": [
        "## 1.1 Numpy Array Basics"
      ]
    },
    {
      "cell_type": "code",
      "execution_count": null,
      "metadata": {
        "id": "pvCkPbZ6YjTQ"
      },
      "outputs": [],
      "source": [
        "import numpy as np #import numpy"
      ]
    },
    {
      "cell_type": "code",
      "execution_count": null,
      "metadata": {
        "id": "PTzrhf32YjTS"
      },
      "outputs": [],
      "source": [
        "l = list(range(1,11)) #create a list\n",
        "l"
      ]
    },
    {
      "cell_type": "code",
      "execution_count": null,
      "metadata": {
        "id": "JWfH-MD3YjTS"
      },
      "outputs": [],
      "source": [
        "my_array = np.array(l) #transform list into a numpy array (ndarray)\n",
        "print(my_array)"
      ]
    },
    {
      "cell_type": "code",
      "execution_count": null,
      "metadata": {
        "id": "DkSR4CXeYjTT"
      },
      "outputs": [],
      "source": [
        "type(my_array)"
      ]
    },
    {
      "cell_type": "code",
      "execution_count": null,
      "metadata": {
        "id": "zpbigQR3YjTT"
      },
      "outputs": [],
      "source": [
        "for i in my_array: # same as lists, ndarrays store multiple elements (is iterable)\n",
        "    print(i)"
      ]
    },
    {
      "cell_type": "code",
      "execution_count": null,
      "metadata": {
        "id": "k6-GvR3OYjTU"
      },
      "outputs": [],
      "source": [
        "l = [1, 2.5, \"Dog\", True] #lists can store different datatypes"
      ]
    },
    {
      "cell_type": "code",
      "execution_count": null,
      "metadata": {
        "id": "6w5BUOqhYjTU"
      },
      "outputs": [],
      "source": [
        "for i in l:\n",
        "    print(type(i))"
      ]
    },
    {
      "cell_type": "code",
      "execution_count": null,
      "metadata": {
        "id": "tQqwKNxTYjTV"
      },
      "outputs": [],
      "source": [
        "a = np.array(l) #in ndarrays, all elements must have same datatype; numpy transforms automatically\n",
        "a"
      ]
    },
    {
      "cell_type": "code",
      "execution_count": null,
      "metadata": {
        "id": "8AaExfxEYjTV"
      },
      "outputs": [],
      "source": [
        "for i in a:\n",
        "    print(type(i))"
      ]
    },
    {
      "cell_type": "code",
      "execution_count": null,
      "metadata": {
        "id": "oYEyBi4oYjTV"
      },
      "outputs": [],
      "source": [
        "b = np.array([1., \"2\", 3])\n",
        "b"
      ]
    },
    {
      "cell_type": "code",
      "execution_count": null,
      "metadata": {
        "id": "TMBj9w6VYjTV"
      },
      "outputs": [],
      "source": [
        "type(b)"
      ]
    },
    {
      "cell_type": "code",
      "execution_count": null,
      "metadata": {
        "id": "mscnt0CpYjTW"
      },
      "outputs": [],
      "source": [
        "b.dtype #can check single datatype of all elements with attribute .dtype"
      ]
    },
    {
      "cell_type": "markdown",
      "metadata": {
        "id": "2XDx4QN9YjTW"
      },
      "source": [
        "## 1.2 Numpy Array (element-wise operations / vectorization)"
      ]
    },
    {
      "cell_type": "code",
      "execution_count": null,
      "metadata": {
        "id": "OLxCKTmCYjTW"
      },
      "outputs": [],
      "source": [
        "import numpy as np"
      ]
    },
    {
      "cell_type": "code",
      "execution_count": null,
      "metadata": {
        "id": "4RItRVPeYjTW"
      },
      "outputs": [],
      "source": [
        "np.arange(1,11) #create new ndarray from 1(incl.) to 11(excl.)"
      ]
    },
    {
      "cell_type": "code",
      "execution_count": null,
      "metadata": {
        "id": "AX52eTuHYjTW"
      },
      "outputs": [],
      "source": [
        "np.arange(1,11,2) #only every second number is created"
      ]
    },
    {
      "cell_type": "code",
      "execution_count": null,
      "metadata": {
        "id": "XLX1ML-dYjTX"
      },
      "outputs": [],
      "source": [
        "l = [1,2,3,4]\n",
        "l"
      ]
    },
    {
      "cell_type": "code",
      "execution_count": null,
      "metadata": {
        "id": "APyhupeiYjTX"
      },
      "outputs": [],
      "source": [
        "l*2 #this is not an element-wise operation"
      ]
    },
    {
      "cell_type": "code",
      "execution_count": null,
      "metadata": {
        "id": "p4RTMvZvYjTX"
      },
      "outputs": [],
      "source": [
        "l1 = [] #element-wise operations with lists require a bunch of code\n",
        "for i in l:\n",
        "    l1.append(i*2)\n",
        "l1"
      ]
    },
    {
      "cell_type": "code",
      "execution_count": null,
      "metadata": {
        "id": "PddNHW7kYjTX"
      },
      "outputs": [],
      "source": [
        "l+2 #this is not an element-wise operation and does not work at all"
      ]
    },
    {
      "cell_type": "code",
      "execution_count": null,
      "metadata": {
        "id": "UDP-m4JHYjTX"
      },
      "outputs": [],
      "source": [
        "a = np.arange(1,5) #create ndarray from 1 to 4 (both including)\n",
        "a"
      ]
    },
    {
      "cell_type": "code",
      "execution_count": null,
      "metadata": {
        "id": "PkizSCD6YjTX"
      },
      "outputs": [],
      "source": [
        "a * 2 #element-wise (vectorized) operations are pretty simple with ndarrays"
      ]
    },
    {
      "cell_type": "code",
      "execution_count": null,
      "metadata": {
        "id": "ogvNdGo6YjTX"
      },
      "outputs": [],
      "source": [
        "a + 2 #addition works as well"
      ]
    },
    {
      "cell_type": "code",
      "execution_count": null,
      "metadata": {
        "id": "3r9EoSdjYjTY"
      },
      "outputs": [],
      "source": [
        "a**2 #all elements squared"
      ]
    },
    {
      "cell_type": "code",
      "execution_count": null,
      "metadata": {
        "id": "hbEE0I4tYjTY"
      },
      "outputs": [],
      "source": [
        "2**a #can serve as exponent as well"
      ]
    },
    {
      "cell_type": "code",
      "execution_count": null,
      "metadata": {
        "id": "9J-HYR3LYjTY"
      },
      "outputs": [],
      "source": [
        "np.sqrt(a) #square root of all elements"
      ]
    },
    {
      "cell_type": "code",
      "execution_count": null,
      "metadata": {
        "id": "j2GuLcK5YjTY"
      },
      "outputs": [],
      "source": [
        "np.exp(a) #exponentiation with e"
      ]
    },
    {
      "cell_type": "code",
      "execution_count": null,
      "metadata": {
        "id": "x_oNGGxyYjTY"
      },
      "outputs": [],
      "source": [
        "np.log(a) #natural logarithm"
      ]
    },
    {
      "cell_type": "code",
      "execution_count": null,
      "metadata": {
        "id": "u18cKJS_YjTY"
      },
      "outputs": [],
      "source": [
        "a.sum() #sum of all elements (ndarray method)"
      ]
    },
    {
      "cell_type": "code",
      "execution_count": null,
      "metadata": {
        "id": "IHJ2qKeYYjTY"
      },
      "outputs": [],
      "source": [
        "np.sum(a) #sum of all elements"
      ]
    },
    {
      "cell_type": "code",
      "execution_count": null,
      "metadata": {
        "id": "YAuPluk0YjTZ"
      },
      "outputs": [],
      "source": [
        "sum(a)"
      ]
    },
    {
      "cell_type": "code",
      "execution_count": null,
      "metadata": {
        "id": "yPAEMva3YjTZ"
      },
      "outputs": [],
      "source": [
        "a.size #number of elements in ndarray (ndarray attribute)"
      ]
    },
    {
      "cell_type": "code",
      "execution_count": null,
      "metadata": {
        "id": "IUUNQ8ImYjTZ"
      },
      "outputs": [],
      "source": [
        "len(a)"
      ]
    },
    {
      "cell_type": "code",
      "execution_count": null,
      "metadata": {
        "id": "97bPsIizYjTZ"
      },
      "outputs": [],
      "source": [
        "b = np.array([-2, -1, -0.5, 0, 1, 2, 3.5])\n",
        "b"
      ]
    },
    {
      "cell_type": "code",
      "execution_count": null,
      "metadata": {
        "id": "2y0ZmT1PYjTZ"
      },
      "outputs": [],
      "source": [
        "np.abs(b) #absolute values of all elements"
      ]
    },
    {
      "cell_type": "code",
      "execution_count": null,
      "metadata": {
        "id": "KRowVHoWYjTa"
      },
      "outputs": [],
      "source": [
        "c = np.array([-1.7, -1.5, -0.2, 0.2, 1.5, 1.7, 2.0])\n",
        "c"
      ]
    },
    {
      "cell_type": "code",
      "execution_count": null,
      "metadata": {
        "id": "LLtz4TMBYjTa"
      },
      "outputs": [],
      "source": [
        "np.ceil(c) #element-wise rounding up"
      ]
    },
    {
      "cell_type": "code",
      "execution_count": null,
      "metadata": {
        "id": "1FW3PuKSYjTf"
      },
      "outputs": [],
      "source": [
        "np.floor(c) #element-wise rounding down"
      ]
    },
    {
      "cell_type": "code",
      "execution_count": null,
      "metadata": {
        "id": "m1li1o-rYjTf"
      },
      "outputs": [],
      "source": [
        "np.around([-3.23, -0.76, 1.44, 2.65, ], decimals = 0) #evenly round all elements to the given number of decimals."
      ]
    },
    {
      "cell_type": "markdown",
      "metadata": {
        "id": "VAlbyaiaYjTf"
      },
      "source": [
        "## 1.3 Numpy Array (Indexing and Slicing)"
      ]
    },
    {
      "cell_type": "code",
      "execution_count": null,
      "metadata": {
        "id": "17DH422AYjTg"
      },
      "outputs": [],
      "source": [
        "import numpy as np"
      ]
    },
    {
      "cell_type": "code",
      "execution_count": null,
      "metadata": {
        "id": "EJtER6MpYjTg"
      },
      "outputs": [],
      "source": [
        "a = np.arange(1,11) #array from 1 to 10 (incl.)\n",
        "a"
      ]
    },
    {
      "cell_type": "code",
      "execution_count": null,
      "metadata": {
        "id": "skzOKw9DYjTg"
      },
      "outputs": [],
      "source": [
        "a[0] #first element at index position 0 (zero-based indexing!)"
      ]
    },
    {
      "cell_type": "code",
      "execution_count": null,
      "metadata": {
        "id": "gb3IIS0CYjTg"
      },
      "outputs": [],
      "source": [
        "a[1] #second element (index position 1)"
      ]
    },
    {
      "cell_type": "code",
      "execution_count": null,
      "metadata": {
        "id": "pBe6TsJ1YjTg"
      },
      "outputs": [],
      "source": [
        "a[-1] #last element"
      ]
    },
    {
      "cell_type": "code",
      "execution_count": null,
      "metadata": {
        "id": "Zq6RT4F7YjTg"
      },
      "outputs": [],
      "source": [
        "list(enumerate(a)) #list of index,value tuples"
      ]
    },
    {
      "cell_type": "code",
      "execution_count": null,
      "metadata": {
        "id": "eoArH6_jYjTh"
      },
      "outputs": [],
      "source": [
        "a[2:6] #slicing from index position 2 (incl.) till position 6 (excl.)"
      ]
    },
    {
      "cell_type": "code",
      "execution_count": null,
      "metadata": {
        "id": "sXQHY9tjYjTh"
      },
      "outputs": [],
      "source": [
        "a[:] #all elements"
      ]
    },
    {
      "cell_type": "code",
      "execution_count": null,
      "metadata": {
        "id": "JCOO9CcIYjTh"
      },
      "outputs": [],
      "source": [
        "a[:5] #all elements until index position 5 (excl.)"
      ]
    },
    {
      "cell_type": "code",
      "execution_count": null,
      "metadata": {
        "id": "Tpyx9M8uYjTh"
      },
      "outputs": [],
      "source": [
        "a[6:] #all elements from index position 6 (incl.) till the last element (incl.)"
      ]
    },
    {
      "cell_type": "code",
      "execution_count": null,
      "metadata": {
        "id": "ORrTw-IeYjTh"
      },
      "outputs": [],
      "source": [
        "a[::2] #every second element, starting from first element"
      ]
    },
    {
      "cell_type": "code",
      "execution_count": null,
      "metadata": {
        "id": "4hxHYfnoYjTi"
      },
      "outputs": [],
      "source": [
        "a[::3] #every third element, starting from first element"
      ]
    },
    {
      "cell_type": "code",
      "execution_count": null,
      "metadata": {
        "id": "ojdi3-plYjTi"
      },
      "outputs": [],
      "source": [
        "a[2::3] #every third element, starting from third element (index position 2)"
      ]
    },
    {
      "cell_type": "code",
      "execution_count": null,
      "metadata": {
        "id": "tw3Vuk6tYjTi"
      },
      "outputs": [],
      "source": [
        "a[0] = 100 #ndarrays are mutable, changing first element to 100\n",
        "a"
      ]
    },
    {
      "cell_type": "code",
      "execution_count": null,
      "metadata": {
        "id": "2tPrIRY0YjTi"
      },
      "outputs": [],
      "source": [
        "a[-1] = 101 #changing last element to 101\n",
        "a"
      ]
    },
    {
      "cell_type": "code",
      "execution_count": null,
      "metadata": {
        "id": "OA1GvPOTYjTi"
      },
      "outputs": [],
      "source": [
        "a[2:5] = 50 #in contrast to lists, ndarrays allow braodcasting, assigning one new value to multiple elements\n",
        "a"
      ]
    },
    {
      "cell_type": "code",
      "execution_count": null,
      "metadata": {
        "id": "tbAFHZFKYjTj"
      },
      "outputs": [],
      "source": [
        "a[2:5] = [50, 51, 52] #assigning multiple new values to multiple elements\n",
        "a"
      ]
    },
    {
      "cell_type": "code",
      "execution_count": null,
      "metadata": {
        "id": "u7UkuS8kYjTj"
      },
      "outputs": [],
      "source": [
        "a = np.arange(1,11) #creating new ndarray a\n",
        "a"
      ]
    },
    {
      "cell_type": "code",
      "execution_count": null,
      "metadata": {
        "id": "clETZ-9-YjTj"
      },
      "outputs": [],
      "source": [
        "b = a[2:8] # making a slice of ndarray a and assign new variable b\n",
        "b"
      ]
    },
    {
      "cell_type": "code",
      "execution_count": null,
      "metadata": {
        "id": "-5hFqJwnYjTj"
      },
      "outputs": [],
      "source": [
        "b[0] = 100 #changing first element of ndarray b\n",
        "b"
      ]
    },
    {
      "cell_type": "code",
      "execution_count": null,
      "metadata": {
        "id": "InUbEhFsYjTj"
      },
      "outputs": [],
      "source": [
        "a #respective element of ndarray a has changed as well!!!"
      ]
    },
    {
      "cell_type": "code",
      "execution_count": null,
      "metadata": {
        "id": "jyVRZvFwYjTj"
      },
      "outputs": [],
      "source": [
        "l = list(range(1,11)) #lists behave differently\n",
        "l"
      ]
    },
    {
      "cell_type": "code",
      "execution_count": null,
      "metadata": {
        "id": "CrS2QraRYjTk"
      },
      "outputs": [],
      "source": [
        "m = l[2:8] #here a copy of the slice of l is created\n",
        "m"
      ]
    },
    {
      "cell_type": "code",
      "execution_count": null,
      "metadata": {
        "id": "yMyL-kcfYjTk"
      },
      "outputs": [],
      "source": [
        "m[0] = 100 #changing first element of slice m\n",
        "m"
      ]
    },
    {
      "cell_type": "code",
      "execution_count": null,
      "metadata": {
        "id": "ff4V3VabYjTk"
      },
      "outputs": [],
      "source": [
        "l #no effect on l !!!"
      ]
    },
    {
      "cell_type": "markdown",
      "metadata": {
        "collapsed": true,
        "id": "9VJl62phYjTk"
      },
      "source": [
        "## 1.4 Numpy Array (Shape and multiple Dimensions)"
      ]
    },
    {
      "cell_type": "code",
      "execution_count": null,
      "metadata": {
        "id": "TijdudOQYjTk"
      },
      "outputs": [],
      "source": [
        "import numpy as np"
      ]
    },
    {
      "cell_type": "code",
      "execution_count": null,
      "metadata": {
        "id": "ZsfQkuRkYjTk"
      },
      "outputs": [],
      "source": [
        "a = np.arange(1,13) #creating array from 1 to 12\n",
        "a"
      ]
    },
    {
      "cell_type": "code",
      "execution_count": null,
      "metadata": {
        "id": "Y8QwRSJAYjTl"
      },
      "outputs": [],
      "source": [
        "type(a)"
      ]
    },
    {
      "cell_type": "code",
      "execution_count": null,
      "metadata": {
        "id": "47n_GlbRYjTl"
      },
      "outputs": [],
      "source": [
        "a.shape #one-dimensional array, 12 elements in one dimension (vector)"
      ]
    },
    {
      "cell_type": "code",
      "execution_count": null,
      "metadata": {
        "id": "s1IhILjPYjTl"
      },
      "outputs": [],
      "source": [
        "a = a.reshape(2,6) #reshaping a: 2 rows / 6 columns"
      ]
    },
    {
      "cell_type": "code",
      "execution_count": null,
      "metadata": {
        "id": "-Yr1Xu7KYjTl"
      },
      "outputs": [],
      "source": [
        "a"
      ]
    },
    {
      "cell_type": "code",
      "execution_count": null,
      "metadata": {
        "id": "mXKhTc0RYjTl"
      },
      "outputs": [],
      "source": [
        "a.shape # two-dimensional array: 2 rows / 6 columns (matrix)"
      ]
    },
    {
      "cell_type": "code",
      "execution_count": null,
      "metadata": {
        "id": "kw4p8e-HYjTl"
      },
      "outputs": [],
      "source": [
        "a = a.reshape(6,2) # two-dimensional array: 6 rows / 2 columns\n",
        "a"
      ]
    },
    {
      "cell_type": "code",
      "execution_count": null,
      "metadata": {
        "id": "2PaM1wexYjTm"
      },
      "outputs": [],
      "source": [
        "a.shape"
      ]
    },
    {
      "cell_type": "code",
      "execution_count": null,
      "metadata": {
        "id": "OnfTuda3YjTm"
      },
      "outputs": [],
      "source": [
        "a + 100 #element-wise operations still work"
      ]
    },
    {
      "cell_type": "code",
      "execution_count": null,
      "metadata": {
        "id": "UcrKfQtFYjTm"
      },
      "outputs": [],
      "source": [
        "a.reshape(3,5) #not possible with 12 elements"
      ]
    },
    {
      "cell_type": "code",
      "execution_count": null,
      "metadata": {
        "id": "1Pen_ou0YjTm"
      },
      "outputs": [],
      "source": [
        "a = a.reshape(2,2,3) #creating a three-dimensional array\n",
        "a"
      ]
    },
    {
      "cell_type": "code",
      "execution_count": null,
      "metadata": {
        "id": "DnGMSyPjYjTm"
      },
      "outputs": [],
      "source": [
        "a.shape"
      ]
    },
    {
      "cell_type": "code",
      "execution_count": null,
      "metadata": {
        "id": "ALhgJatiYjTn"
      },
      "outputs": [],
      "source": [
        "b = np.arange(1,101).reshape(25,4) #creating 2-dim ndarray with one line of code\n",
        "b"
      ]
    },
    {
      "cell_type": "markdown",
      "metadata": {
        "id": "DdmWHXfPYjTn"
      },
      "source": [
        "## 1.5 Numpy Array (Indexing and Slicing multi-dimensional arrays)"
      ]
    },
    {
      "cell_type": "code",
      "execution_count": null,
      "metadata": {
        "id": "sfuXc2C6YjTn"
      },
      "outputs": [],
      "source": [
        "import numpy as np"
      ]
    },
    {
      "cell_type": "code",
      "execution_count": null,
      "metadata": {
        "id": "kciS1MEJYjTn"
      },
      "outputs": [],
      "source": [
        "a = np.arange(1,13)\n",
        "a"
      ]
    },
    {
      "cell_type": "code",
      "execution_count": null,
      "metadata": {
        "id": "hPdbopcfYjTn"
      },
      "outputs": [],
      "source": [
        "a = a.reshape(3,4, order = \"C\") #creating matrix with 3 rows and 4 columns\n",
        "a"
      ]
    },
    {
      "cell_type": "code",
      "execution_count": null,
      "metadata": {
        "id": "B4yQNkO7YjTn"
      },
      "outputs": [],
      "source": [
        "a[0] #first row (index position 0)"
      ]
    },
    {
      "cell_type": "code",
      "execution_count": null,
      "metadata": {
        "id": "vO9Pmr_QYjTo"
      },
      "outputs": [],
      "source": [
        "a[1] #second row (index position 1)"
      ]
    },
    {
      "cell_type": "code",
      "execution_count": null,
      "metadata": {
        "id": "tPxazDciYjTo"
      },
      "outputs": [],
      "source": [
        "a[2] #third row (index position 2)"
      ]
    },
    {
      "cell_type": "code",
      "execution_count": null,
      "metadata": {
        "id": "P-iw0bsvYjTo"
      },
      "outputs": [],
      "source": [
        "a[-1] #last row (index position -1)"
      ]
    },
    {
      "cell_type": "code",
      "execution_count": null,
      "metadata": {
        "id": "OFJxpEkGYjTo"
      },
      "outputs": [],
      "source": [
        "a[1][1] #second row, second column"
      ]
    },
    {
      "cell_type": "code",
      "execution_count": null,
      "metadata": {
        "id": "05xkKs67YjTo"
      },
      "outputs": [],
      "source": [
        "a[1,1] #more convenient in one square bracket"
      ]
    },
    {
      "cell_type": "code",
      "execution_count": null,
      "metadata": {
        "id": "lPwFcOEuYjTo"
      },
      "outputs": [],
      "source": [
        "a[2,-1] #third row, last column"
      ]
    },
    {
      "cell_type": "code",
      "execution_count": null,
      "metadata": {
        "id": "_3l4Sp_cYjTo"
      },
      "outputs": [],
      "source": [
        "a[:,0] #all rows, first column"
      ]
    },
    {
      "cell_type": "code",
      "execution_count": null,
      "metadata": {
        "id": "AMAw5qJxYjTp"
      },
      "outputs": [],
      "source": [
        "a[:,1] #all rows, second column"
      ]
    },
    {
      "cell_type": "code",
      "execution_count": null,
      "metadata": {
        "id": "g6V1s0tCYjTp"
      },
      "outputs": [],
      "source": [
        "a[:,-1] #all rows, last column"
      ]
    },
    {
      "cell_type": "code",
      "execution_count": null,
      "metadata": {
        "id": "DUbHvGfMYjTp"
      },
      "outputs": [],
      "source": [
        "a[:2,1:3] #first two rows, column two and three"
      ]
    },
    {
      "cell_type": "code",
      "execution_count": null,
      "metadata": {
        "id": "vZ6ICD4kYjTp"
      },
      "outputs": [],
      "source": [
        "a"
      ]
    },
    {
      "cell_type": "code",
      "execution_count": null,
      "metadata": {
        "id": "wPfJOJSZYjTp"
      },
      "outputs": [],
      "source": [
        "a.T #Transpose: switching axes (attribute)"
      ]
    },
    {
      "cell_type": "code",
      "execution_count": null,
      "metadata": {
        "id": "6KygcGOjYjTp"
      },
      "outputs": [],
      "source": [
        "a.transpose() #same (method)"
      ]
    },
    {
      "cell_type": "code",
      "execution_count": null,
      "metadata": {
        "id": "S6MhLBBJYjTp"
      },
      "outputs": [],
      "source": [
        "a"
      ]
    },
    {
      "cell_type": "code",
      "execution_count": null,
      "metadata": {
        "id": "cVRWmI9BYjTq"
      },
      "outputs": [],
      "source": [
        "a[:,-1] = a[:,-1] /4 #changing slice inplace"
      ]
    },
    {
      "cell_type": "code",
      "execution_count": null,
      "metadata": {
        "id": "r7rUQ9IDYjTq"
      },
      "outputs": [],
      "source": [
        "a"
      ]
    },
    {
      "cell_type": "code",
      "execution_count": null,
      "metadata": {
        "id": "IBQMvPhXYjTq"
      },
      "outputs": [],
      "source": [
        "a = np.arange(1,13).reshape(3,4) #creating a 3x4 matrix\n",
        "a"
      ]
    },
    {
      "cell_type": "code",
      "execution_count": null,
      "metadata": {
        "id": "0S5vi7gkYjTq"
      },
      "outputs": [],
      "source": [
        "a.sum() #sum over all elements in matrix"
      ]
    },
    {
      "cell_type": "code",
      "execution_count": null,
      "metadata": {
        "id": "zgOHsLAaYjTq"
      },
      "outputs": [],
      "source": [
        "a.sum(axis = 0) #sum of each column"
      ]
    },
    {
      "cell_type": "code",
      "execution_count": null,
      "metadata": {
        "id": "9yAAYIprYjTq"
      },
      "outputs": [],
      "source": [
        "a.sum(axis = 1) #sum of each row"
      ]
    },
    {
      "cell_type": "code",
      "execution_count": null,
      "metadata": {
        "id": "lUjdHxCDYjTr"
      },
      "outputs": [],
      "source": [
        "a.cumsum() #cumulative sum of all elements"
      ]
    },
    {
      "cell_type": "code",
      "execution_count": null,
      "metadata": {
        "id": "2lM01e8iYjTr"
      },
      "outputs": [],
      "source": [
        "a.cumsum(axis = 0) #cumulative sum for each column"
      ]
    },
    {
      "cell_type": "code",
      "execution_count": null,
      "metadata": {
        "id": "4fJSW-0wYjTr"
      },
      "outputs": [],
      "source": [
        "a.cumsum(axis = 1) #cumulative sum for each row"
      ]
    },
    {
      "cell_type": "code",
      "execution_count": null,
      "metadata": {
        "id": "XDxIWXkfYjTr"
      },
      "outputs": [],
      "source": [
        "a"
      ]
    },
    {
      "cell_type": "code",
      "execution_count": null,
      "metadata": {
        "id": "2ukmMfkMYjTr"
      },
      "outputs": [],
      "source": [
        "a.prod() #product over all elements"
      ]
    },
    {
      "cell_type": "code",
      "execution_count": null,
      "metadata": {
        "id": "0u-M7OHvYjTr"
      },
      "outputs": [],
      "source": [
        "a.prod(axis = 0) #product over all elements in each column"
      ]
    },
    {
      "cell_type": "code",
      "execution_count": null,
      "metadata": {
        "id": "M4Q1WzfFYjTr"
      },
      "outputs": [],
      "source": [
        "a.prod(axis = 1) #product over all elements in each row"
      ]
    },
    {
      "cell_type": "markdown",
      "metadata": {
        "id": "nSLKlIEwYjTs"
      },
      "source": [
        "## 1.6 Boolean Indexing"
      ]
    },
    {
      "cell_type": "code",
      "execution_count": null,
      "metadata": {
        "id": "tVkuPOaEYjTs"
      },
      "outputs": [],
      "source": [
        "import numpy as np"
      ]
    },
    {
      "cell_type": "code",
      "execution_count": null,
      "metadata": {
        "id": "62X6OR5eYjTs"
      },
      "outputs": [],
      "source": [
        "a = np.arange(1,11) #array from 1 to 10\n",
        "a"
      ]
    },
    {
      "cell_type": "code",
      "execution_count": null,
      "metadata": {
        "id": "Lmyk0B_GYjTv"
      },
      "outputs": [],
      "source": [
        "mask1 = a > 5 #element-wise check if greater than 5\n",
        "mask1"
      ]
    },
    {
      "cell_type": "code",
      "execution_count": null,
      "metadata": {
        "id": "DRkfYv91YjTw"
      },
      "outputs": [],
      "source": [
        "mask2 = a < 8 #element-wise check if smaller than 8\n",
        "mask2"
      ]
    },
    {
      "cell_type": "code",
      "execution_count": null,
      "metadata": {
        "id": "zqNrCarPYjTw"
      },
      "outputs": [],
      "source": [
        "mask3 = (a > 5) & (a < 8) #element-wise check if greater 5 and smaller 8 (logical and)\n",
        "mask3"
      ]
    },
    {
      "cell_type": "code",
      "execution_count": null,
      "metadata": {
        "id": "AUYAFFHqYjTw"
      },
      "outputs": [],
      "source": [
        "mask4 = (a > 5) | (a < 8) #element-wise check if greater 5 or smaller 8 (logical or)\n",
        "mask4"
      ]
    },
    {
      "cell_type": "code",
      "execution_count": null,
      "metadata": {
        "id": "1J-cCCQNYjTx"
      },
      "outputs": [],
      "source": [
        "mask5 = ~((a > 5) & (a < 8)) #the opposite of mask3\n",
        "mask5"
      ]
    },
    {
      "cell_type": "code",
      "execution_count": null,
      "metadata": {
        "id": "Ut7cDm6GYjTx"
      },
      "outputs": [],
      "source": [
        "a[a>5] #slicing all elements that are greater 5 (fulfill condition of mask1)"
      ]
    },
    {
      "cell_type": "code",
      "execution_count": null,
      "metadata": {
        "id": "7Fu0ej_RYjTx"
      },
      "outputs": [],
      "source": [
        "a[mask1] #slicing all elements that fulfill condition of mask1"
      ]
    },
    {
      "cell_type": "code",
      "execution_count": null,
      "metadata": {
        "id": "NWhWj_CxYjTx"
      },
      "outputs": [],
      "source": [
        "a[mask2] #slicing all elements that fulfill condition of mask2"
      ]
    },
    {
      "cell_type": "code",
      "execution_count": null,
      "metadata": {
        "id": "17aS92qdYjTy"
      },
      "outputs": [],
      "source": [
        "a[mask3] #slicing all elements that fulfill condition of mask3"
      ]
    },
    {
      "cell_type": "code",
      "execution_count": null,
      "metadata": {
        "id": "2ZxV86CYYjTy"
      },
      "outputs": [],
      "source": [
        "a[mask4] #slicing all elements that fulfill condition of mask4"
      ]
    },
    {
      "cell_type": "code",
      "execution_count": null,
      "metadata": {
        "id": "8RJyzWLsYjTy"
      },
      "outputs": [],
      "source": [
        "a[mask5] #slicing all elements that fulfill condition of mask5"
      ]
    },
    {
      "cell_type": "markdown",
      "metadata": {
        "id": "H0PlahYQYjTy"
      },
      "source": [
        "## 1.7 Random Numbers"
      ]
    },
    {
      "cell_type": "code",
      "execution_count": null,
      "metadata": {
        "id": "_ZZZO4u0YjTy"
      },
      "outputs": [],
      "source": [
        "import numpy as np"
      ]
    },
    {
      "cell_type": "code",
      "execution_count": null,
      "metadata": {
        "id": "Fe6fnK5sYjTz"
      },
      "outputs": [],
      "source": [
        "a = np.random.randint(1,101,10) #creating 10 random integers between 1 (incl.) and 101 (excl.)\n",
        "a"
      ]
    },
    {
      "cell_type": "code",
      "execution_count": null,
      "metadata": {
        "id": "7PZ2EOPrYjTz"
      },
      "outputs": [],
      "source": [
        "np.random.seed(123) #setting a seed enables reproducibility\n",
        "a = np.random.randint(1,101,10)\n",
        "a"
      ]
    },
    {
      "cell_type": "code",
      "execution_count": null,
      "metadata": {
        "id": "PBrXcpy0YjTz"
      },
      "outputs": [],
      "source": [
        "np.random.normal(5, 2,10) #creating 10 normal disctributed numbers with mean 5 and std 2"
      ]
    },
    {
      "cell_type": "code",
      "execution_count": null,
      "metadata": {
        "id": "-JFHZ_xPYjTz"
      },
      "outputs": [],
      "source": [
        "b = np.arange(1,101) #creating array b from 1 to 100\n",
        "b"
      ]
    },
    {
      "cell_type": "code",
      "execution_count": null,
      "metadata": {
        "id": "ms9YchMOYjTz"
      },
      "outputs": [],
      "source": [
        "np.random.shuffle(b) #randomly shuffle ndarray b"
      ]
    },
    {
      "cell_type": "code",
      "execution_count": null,
      "metadata": {
        "id": "uBm4OG35YjTz"
      },
      "outputs": [],
      "source": [
        "b"
      ]
    },
    {
      "cell_type": "code",
      "execution_count": null,
      "metadata": {
        "id": "qJOO8lD9YjTz"
      },
      "outputs": [],
      "source": [
        "b.sort() #sorting ndarray b again"
      ]
    },
    {
      "cell_type": "code",
      "execution_count": null,
      "metadata": {
        "id": "vMBA7t0oYjT0"
      },
      "outputs": [],
      "source": [
        "b[::-1] #sorting in reverse order"
      ]
    },
    {
      "cell_type": "code",
      "execution_count": null,
      "metadata": {
        "id": "5Rl3bd2FYjT0"
      },
      "outputs": [],
      "source": [
        "b"
      ]
    },
    {
      "cell_type": "code",
      "execution_count": null,
      "metadata": {
        "id": "wsShu_zyYjT0"
      },
      "outputs": [],
      "source": [
        "np.random.seed(123)\n",
        "b1 = np.random.choice(b, 100, replace = True) #randomly creating a 100 elements sample of ndarray b with/without replacement\n",
        "b1"
      ]
    },
    {
      "cell_type": "code",
      "execution_count": null,
      "metadata": {
        "id": "6J8rBQFGYjT0"
      },
      "outputs": [],
      "source": [
        "b1.sort() #sorting b1\n",
        "b1"
      ]
    },
    {
      "cell_type": "code",
      "execution_count": null,
      "metadata": {
        "id": "kiVQzMuZYjT0"
      },
      "outputs": [],
      "source": [
        "np.unique(b1) #unique elements of b1"
      ]
    },
    {
      "cell_type": "code",
      "execution_count": null,
      "metadata": {
        "id": "hGhk99eQYjT0"
      },
      "outputs": [],
      "source": [
        "np.array(list(set(b1))) #same"
      ]
    },
    {
      "cell_type": "code",
      "execution_count": null,
      "metadata": {
        "id": "93-jypJMYjT1"
      },
      "outputs": [],
      "source": [
        "np.unique(b1).size #how many unique elements?"
      ]
    },
    {
      "cell_type": "code",
      "execution_count": null,
      "metadata": {
        "id": "XSEFnVE1YjT1"
      },
      "outputs": [],
      "source": [
        "np.unique(b1, return_index= True, return_counts=True) #.unique()-method is quite informative"
      ]
    },
    {
      "cell_type": "code",
      "execution_count": null,
      "metadata": {
        "id": "XLb45_WkYjT1"
      },
      "outputs": [],
      "source": []
    },
    {
      "cell_type": "markdown",
      "metadata": {
        "id": "AnbjwiqnYjT1"
      },
      "source": [
        "## 1.8 Performance"
      ]
    },
    {
      "cell_type": "code",
      "execution_count": null,
      "metadata": {
        "id": "PhhIpWhmYjT1"
      },
      "outputs": [],
      "source": [
        "import numpy as np"
      ]
    },
    {
      "cell_type": "code",
      "execution_count": null,
      "metadata": {
        "id": "KhEQ5-YnYjT1"
      },
      "outputs": [],
      "source": [
        "size = 1000000 #number of elements"
      ]
    },
    {
      "cell_type": "code",
      "execution_count": null,
      "metadata": {
        "id": "yyk4j2XcYjT1"
      },
      "outputs": [],
      "source": [
        "a = np.arange(size) #ndarray\n",
        "len(a)"
      ]
    },
    {
      "cell_type": "code",
      "execution_count": null,
      "metadata": {
        "id": "6Z_MOyKYYjT1"
      },
      "outputs": [],
      "source": [
        "l = list(range(size)) #list\n",
        "len(l)"
      ]
    },
    {
      "cell_type": "code",
      "execution_count": null,
      "metadata": {
        "id": "Q4FEFbCGYjT2"
      },
      "outputs": [],
      "source": [
        "%timeit a+2 #ndarray: measuring time for element-wise addition"
      ]
    },
    {
      "cell_type": "code",
      "execution_count": null,
      "metadata": {
        "id": "CZ4m2a0RYjT2"
      },
      "outputs": [],
      "source": [
        "%timeit [i+2 for i in l] #list: measuring time for element-wise addition"
      ]
    },
    {
      "cell_type": "code",
      "execution_count": null,
      "metadata": {
        "id": "ZaBOcRBwYjT2"
      },
      "outputs": [],
      "source": [
        "%timeit a*2 #multiplication"
      ]
    },
    {
      "cell_type": "code",
      "execution_count": null,
      "metadata": {
        "id": "MyTlt6V1YjT2"
      },
      "outputs": [],
      "source": [
        "%timeit [i*2 for i in l] #multiplication"
      ]
    },
    {
      "cell_type": "code",
      "execution_count": null,
      "metadata": {
        "id": "VZAYOXU6YjT2"
      },
      "outputs": [],
      "source": [
        "%timeit a**2 #square"
      ]
    },
    {
      "cell_type": "code",
      "execution_count": null,
      "metadata": {
        "id": "6a5NwlJUYjT3"
      },
      "outputs": [],
      "source": [
        "%timeit [i**2 for i in l] #square"
      ]
    },
    {
      "cell_type": "code",
      "execution_count": null,
      "metadata": {
        "id": "XH5HeLS3YjT3"
      },
      "outputs": [],
      "source": [
        "%timeit np.sqrt(a) #square root"
      ]
    },
    {
      "cell_type": "code",
      "execution_count": null,
      "metadata": {
        "id": "V4r2ZoXoYjT3"
      },
      "outputs": [],
      "source": [
        "%timeit [i**0.5 for i in l] #square root"
      ]
    },
    {
      "cell_type": "markdown",
      "metadata": {
        "id": "tHi9dzm8YjT3"
      },
      "source": [
        "## 1.9 Case Study Numpy vs. Python Standard Library"
      ]
    },
    {
      "cell_type": "code",
      "execution_count": null,
      "metadata": {
        "id": "DvecPedxYjT3"
      },
      "outputs": [],
      "source": [
        "import numpy as np"
      ]
    },
    {
      "cell_type": "code",
      "execution_count": null,
      "metadata": {
        "id": "w70qLPQXYjT3"
      },
      "outputs": [],
      "source": [
        "np.random.seed(122)\n",
        "(np.random.randint(1,11,1000000).reshape(10000,100) == 1).sum(axis = 1).mean() #using vectorization and method-chaining"
      ]
    },
    {
      "cell_type": "code",
      "execution_count": null,
      "metadata": {
        "id": "ew-F57uUYjT3"
      },
      "outputs": [],
      "source": [
        "np.random.seed(122)\n",
        "(np.random.randint(1,11,10000*100).reshape(10000,100) == 1).sum(axis = 1).mean()"
      ]
    },
    {
      "cell_type": "code",
      "execution_count": null,
      "metadata": {
        "id": "uB2Pt217YjT3"
      },
      "outputs": [],
      "source": [
        "%timeit (np.random.randint(1,11,100*10000).reshape(10000,100) == 1).sum(axis = 1).mean()"
      ]
    },
    {
      "cell_type": "code",
      "execution_count": null,
      "metadata": {
        "id": "5gNQk9eEYjT4"
      },
      "outputs": [],
      "source": [
        "import random"
      ]
    },
    {
      "cell_type": "code",
      "execution_count": null,
      "metadata": {
        "id": "c0GfOH-LYjT4"
      },
      "outputs": [],
      "source": [
        "def simulation(): # using nested loops, if statements and lists\n",
        "    results = []\n",
        "    for _ in range(10000):\n",
        "        l = []\n",
        "        for _ in range(100):\n",
        "            if random.randint(1,10) == 1:\n",
        "                l.append(True)\n",
        "            else:\n",
        "                l.append(False)\n",
        "        results.append(sum(l))\n",
        "    return (sum(results) / len(results))"
      ]
    },
    {
      "cell_type": "code",
      "execution_count": null,
      "metadata": {
        "id": "3xY6QgLvYjT4"
      },
      "outputs": [],
      "source": [
        "simulation()"
      ]
    },
    {
      "cell_type": "code",
      "execution_count": null,
      "metadata": {
        "id": "0uLrYapCYjT4"
      },
      "outputs": [],
      "source": [
        "%timeit simulation()"
      ]
    },
    {
      "cell_type": "markdown",
      "metadata": {
        "collapsed": true,
        "id": "hJaLOqdkYjT4"
      },
      "source": [
        "## 1.10 Summary Statistics"
      ]
    },
    {
      "cell_type": "code",
      "execution_count": null,
      "metadata": {
        "id": "nWvniyy1YjT4"
      },
      "outputs": [],
      "source": [
        "import numpy as np"
      ]
    },
    {
      "cell_type": "code",
      "execution_count": null,
      "metadata": {
        "id": "9Wa1vhRQYjT4"
      },
      "outputs": [],
      "source": [
        "np.random.seed(123)\n",
        "a = np.random.randint(1,101, 11) #creating an array with 11 random integers between 1 and 100\n",
        "a"
      ]
    },
    {
      "cell_type": "code",
      "execution_count": null,
      "metadata": {
        "id": "VfI0GYQDYjT5"
      },
      "outputs": [],
      "source": [
        "a.sort()\n",
        "a"
      ]
    },
    {
      "cell_type": "code",
      "execution_count": null,
      "metadata": {
        "id": "OOcf2gJFYjT5"
      },
      "outputs": [],
      "source": [
        "a.max() #maximum"
      ]
    },
    {
      "cell_type": "code",
      "execution_count": null,
      "metadata": {
        "id": "oZ9X8rL1YjT5"
      },
      "outputs": [],
      "source": [
        "np.max(a) #maximum"
      ]
    },
    {
      "cell_type": "code",
      "execution_count": null,
      "metadata": {
        "id": "7B2lzvynYjT6"
      },
      "outputs": [],
      "source": [
        "max(a) #maximum"
      ]
    },
    {
      "cell_type": "code",
      "execution_count": null,
      "metadata": {
        "id": "d7Esg4-AYjT6"
      },
      "outputs": [],
      "source": [
        "a.min() #minimum"
      ]
    },
    {
      "cell_type": "code",
      "execution_count": null,
      "metadata": {
        "id": "2MFc1YnWYjT6"
      },
      "outputs": [],
      "source": [
        "np.mean(a) #mean"
      ]
    },
    {
      "cell_type": "code",
      "execution_count": null,
      "metadata": {
        "id": "BDP2lJorYjT6"
      },
      "outputs": [],
      "source": [
        "a.mean() #mean"
      ]
    },
    {
      "cell_type": "code",
      "execution_count": null,
      "metadata": {
        "id": "OxsxakEuYjT6"
      },
      "outputs": [],
      "source": [
        "np.median(a) #median"
      ]
    },
    {
      "cell_type": "code",
      "execution_count": null,
      "metadata": {
        "id": "8XKz2KSnYjT6"
      },
      "outputs": [],
      "source": [
        "np.std(a) #standard deviation"
      ]
    },
    {
      "cell_type": "code",
      "execution_count": null,
      "metadata": {
        "id": "jxcmp2j-YjT7"
      },
      "outputs": [],
      "source": [
        "np.var(a) #variance"
      ]
    },
    {
      "cell_type": "code",
      "execution_count": null,
      "metadata": {
        "id": "Xwuztix6YjT7"
      },
      "outputs": [],
      "source": [
        "np.percentile(a, 10) #10th percentile"
      ]
    },
    {
      "cell_type": "code",
      "execution_count": null,
      "metadata": {
        "id": "dPVzISsrYjT7"
      },
      "outputs": [],
      "source": [
        "np.percentile(a, 90) #90th percentile"
      ]
    },
    {
      "cell_type": "code",
      "execution_count": null,
      "metadata": {
        "id": "uknbseLbYjT7"
      },
      "outputs": [],
      "source": [
        "np.random.seed(123)\n",
        "a = np.random.randint(1,101, 11) #creating an array a with 11 random integers between 1 and 100\n",
        "a"
      ]
    },
    {
      "cell_type": "code",
      "execution_count": null,
      "metadata": {
        "id": "gcMSktM6YjT7"
      },
      "outputs": [],
      "source": [
        "np.random.seed(111) #different seed!!!\n",
        "b = np.random.randint(1,101, 11) #creating an array b with 11 random integers between 1 and 100\n",
        "b"
      ]
    },
    {
      "cell_type": "code",
      "execution_count": null,
      "metadata": {
        "id": "uF0QhLlLYjT7"
      },
      "outputs": [],
      "source": [
        "np.cov(a,b) #covariance matrix"
      ]
    },
    {
      "cell_type": "code",
      "execution_count": null,
      "metadata": {
        "id": "Y0z0XE2IYjT7"
      },
      "outputs": [],
      "source": [
        "np.corrcoef(a,b) #correlation matrix"
      ]
    },
    {
      "cell_type": "markdown",
      "metadata": {
        "id": "3kMHewdsYjT8"
      },
      "source": [
        "## 1.11 Visualization and (Linear) Regresion"
      ]
    },
    {
      "cell_type": "code",
      "execution_count": null,
      "metadata": {
        "id": "5gvN5NPHYjT8"
      },
      "outputs": [],
      "source": [
        "import numpy as np"
      ]
    },
    {
      "cell_type": "code",
      "execution_count": null,
      "metadata": {
        "id": "AS21uwjfYjT8"
      },
      "outputs": [],
      "source": [
        "import matplotlib.pyplot as plt\n",
        "plt.style.use(\"seaborn-v0_8\")"
      ]
    },
    {
      "cell_type": "code",
      "execution_count": null,
      "metadata": {
        "id": "91FNRSAnYjT8"
      },
      "outputs": [],
      "source": [
        "y = np.random.normal(5,2,10000) #creating 10,000 normally distributed numbers with mean 5 and std 2\n",
        "y"
      ]
    },
    {
      "cell_type": "code",
      "execution_count": null,
      "metadata": {
        "id": "Htc-6410YjT8"
      },
      "outputs": [],
      "source": [
        "plt.figure(figsize = (10,6))\n",
        "plt.hist(y, bins = 100, label = \"Data\") #Histogramm\n",
        "plt.title(\"Frequency Distribution of y\")\n",
        "plt.vlines(np.mean(y), 0, 350, label = \"Mean\")\n",
        "plt.xlabel(\"y\")\n",
        "plt.ylabel(\"frequency\")\n",
        "plt.legend()\n",
        "plt.show()"
      ]
    },
    {
      "cell_type": "code",
      "execution_count": null,
      "metadata": {
        "id": "E1kbaC8TYjT8"
      },
      "outputs": [],
      "source": [
        "np.linspace(1,10,10) #creating evenly spaced numbers over a specified interval.\n",
        "\n"
      ]
    },
    {
      "cell_type": "code",
      "execution_count": null,
      "metadata": {
        "id": "CcQ3KBU-YjT8"
      },
      "outputs": [],
      "source": [
        "x = np.linspace(-10, 10, 1000) #creating 1,000 evenly spaced numbers over the interval -10 to 10\n",
        "x"
      ]
    },
    {
      "cell_type": "code",
      "execution_count": null,
      "metadata": {
        "id": "QdWtIyJhYjT9"
      },
      "outputs": [],
      "source": [
        "y = 3 * x**3 - 2* x**2 +5*x -5 #function over x\n",
        "y"
      ]
    },
    {
      "cell_type": "code",
      "execution_count": null,
      "metadata": {
        "id": "FyyT7MPNYjT9"
      },
      "outputs": [],
      "source": [
        "y = np.sin(x) #function over x"
      ]
    },
    {
      "cell_type": "code",
      "execution_count": null,
      "metadata": {
        "id": "NmVJTRkzYjT9"
      },
      "outputs": [],
      "source": [
        "plt.figure(figsize = (10,6))\n",
        "plt.plot(x, y)\n",
        "plt.xlabel(\"x\")\n",
        "plt.ylabel(\"y\")\n",
        "plt.show()"
      ]
    },
    {
      "cell_type": "code",
      "execution_count": null,
      "metadata": {
        "id": "vVsgDw6pYjT9"
      },
      "outputs": [],
      "source": [
        "np.random.seed(123)\n",
        "m = np.random.normal(10,2,20).reshape(2,10) #creating 20 normally distributed numbers in (2,10) shape with mean 10 and std 2\n",
        "m"
      ]
    },
    {
      "cell_type": "code",
      "execution_count": null,
      "metadata": {
        "id": "2635n45IYjT-"
      },
      "outputs": [],
      "source": [
        "a = m[0] #array a is represents first row of m and contains 10 elements\n",
        "a"
      ]
    },
    {
      "cell_type": "code",
      "execution_count": null,
      "metadata": {
        "id": "vZVDToOuYjT-"
      },
      "outputs": [],
      "source": [
        "b = m[1] #array b is represents second row of m and contains 10 elements\n",
        "b"
      ]
    },
    {
      "cell_type": "code",
      "execution_count": null,
      "metadata": {
        "id": "BaZjGIHCYjT-"
      },
      "outputs": [],
      "source": [
        "plt.figure(figsize = (10,6)) # scatter plot of a and b\n",
        "plt.scatter(a, b)\n",
        "plt.show()"
      ]
    },
    {
      "cell_type": "code",
      "execution_count": null,
      "metadata": {
        "id": "cP2wHchdYjT_"
      },
      "outputs": [],
      "source": [
        "reg1 = np.polyfit(a, b, 1) #linear regression\n",
        "reg1    #function: b = 12.51 - 0.1599 * a"
      ]
    },
    {
      "cell_type": "code",
      "execution_count": null,
      "metadata": {
        "id": "xhSgT5okYjT_"
      },
      "outputs": [],
      "source": [
        "x = np.linspace(min(a),max(a), num = 100) #creating x and y values for regression line\n",
        "y = np.polyval(reg1, x)"
      ]
    },
    {
      "cell_type": "code",
      "execution_count": null,
      "metadata": {
        "id": "Ke_hRDfnYjT_"
      },
      "outputs": [],
      "source": [
        "plt.figure(figsize = (10,6))\n",
        "plt.scatter(a, b, label = \"Data\") #Data points\n",
        "plt.plot(x, y, 'b--', label='linear') #linear regression\n",
        "plt.plot(x, np.polyval(reg2, x),'m-.', label='quadratic') #quadratic regression\n",
        "plt.plot(x, np.polyval(reg3, x),'g.', label='cubic') #cubic regression\n",
        "plt.legend()\n",
        "plt.show()"
      ]
    },
    {
      "cell_type": "code",
      "execution_count": null,
      "metadata": {
        "id": "jbvbgOhBYjUA"
      },
      "outputs": [],
      "source": [
        "reg2 = np.polyfit(a, b, 2) #quadratic regression\n",
        "reg2 #function: b = 16.986 + 0.0535 * a**2 - 1.1738 * a"
      ]
    },
    {
      "cell_type": "code",
      "execution_count": null,
      "metadata": {
        "id": "VQUCrL69YjUA"
      },
      "outputs": [],
      "source": [
        "reg3 = np.polyfit(a, b, 3) #cubic regression\n",
        "reg3 #function: b = 92.25 - 0.1178 * a**3 + 3.267 * a**2 - 28.899 * a"
      ]
    },
    {
      "cell_type": "code",
      "execution_count": null,
      "metadata": {
        "id": "CxJmLx6GYjUA"
      },
      "outputs": [],
      "source": [
        "reg_perfect = np.polyfit(a,b, len(a)-1) #perfect regression, polynomial of degree 9 perfectly regresses 10 data points\n",
        "reg_perfect"
      ]
    },
    {
      "cell_type": "code",
      "execution_count": null,
      "metadata": {
        "id": "ZYJT2-xEYjUB"
      },
      "outputs": [],
      "source": [
        "plt.figure(figsize = (10,6))\n",
        "plt.scatter(a, b, label = \"Data\")\n",
        "plt.plot(x,np.polyval(reg_perfect, x) , 'b--', label='perfect')\n",
        "plt.legend()\n",
        "plt.ylim(min(b)-0.5, max(b)+0.5)\n",
        "plt.show()"
      ]
    },
    {
      "cell_type": "code",
      "execution_count": null,
      "metadata": {
        "id": "nPzzzyHSYjUB"
      },
      "outputs": [],
      "source": []
    }
  ],
  "metadata": {
    "kernelspec": {
      "display_name": "Python 3 (ipykernel)",
      "language": "python",
      "name": "python3"
    },
    "language_info": {
      "codemirror_mode": {
        "name": "ipython",
        "version": 3
      },
      "file_extension": ".py",
      "mimetype": "text/x-python",
      "name": "python",
      "nbconvert_exporter": "python",
      "pygments_lexer": "ipython3",
      "version": "3.9.16"
    },
    "colab": {
      "provenance": []
    }
  },
  "nbformat": 4,
  "nbformat_minor": 0
}