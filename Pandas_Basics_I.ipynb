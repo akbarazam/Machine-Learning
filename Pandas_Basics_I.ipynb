{
  "cells": [
    {
      "cell_type": "markdown",
      "source": [
        "\n",
        "# Introduction to Pandas: Your Data Analysis Power Tool\n",
        "\n",
        "---\n",
        "**1: Welcome to Pandas**\n",
        "\n",
        "*What is Pandas?*\n",
        "\n",
        "Pandas is a powerful Python library for working with structured data (like tables, spreadsheets, or even database results). Think of it as Excel for Python, but with way more capabilities for analysis, cleaning, and transforming your data.\n",
        "\n",
        "*Why Pandas?*\n",
        "\n",
        "* **Easy Data Manipulation:** Makes loading, filtering, and organizing your data a breeze.\n",
        "* **Data Cleaning:** Tools to handle missing values, errors, and inconsistencies.\n",
        "* **Analysis Ready:** Built-in functions for calculating statistics, aggregating data, and more.\n",
        "* **Integration:** Works well with other data science libraries like Matplotlib (for plotting) and Scikit-Learn (for machine learning).\n",
        "\n",
        "**Multiple Choice Question**\n",
        "\n",
        "Which of the following is NOT a reason to use Pandas?\n",
        "\n",
        "a) It's great for cleaning messy data.\n",
        "\n",
        "b) It can create beautiful visualizations by itself.\n",
        "\n",
        "c) It simplifies working with structured data.\n",
        "\n",
        "d) It integrates well with other data science tools.\n",
        "\n",
        "\n",
        "---\n",
        "**2: Getting Started**\n",
        "\n",
        "**1. Importing Pandas**"
      ],
      "metadata": {
        "id": "beaAm_KRgcKY"
      }
    },
    {
      "cell_type": "code",
      "source": [
        "import pandas as pd"
      ],
      "outputs": [],
      "execution_count": null,
      "metadata": {
        "id": "BC24-Ih9gcKe"
      }
    },
    {
      "cell_type": "markdown",
      "source": [
        "We use the alias `pd` for convenience, as it's a common convention.\n",
        "\n",
        "**2. Reading Data**\n",
        "\n",
        "*Loading the Automobile Dataset*"
      ],
      "metadata": {
        "id": "4-8kwzPRgcKf"
      }
    },
    {
      "cell_type": "code",
      "source": [
        "df = pd.read_excel('/content/automobile_dataset.xlsx')"
      ],
      "outputs": [],
      "execution_count": null,
      "metadata": {
        "id": "UQc8fftjgcKg"
      }
    },
    {
      "cell_type": "markdown",
      "source": [
        "**Challenge:**\n",
        "\n",
        "1. Read the file \"automobile_dataset.xlsx\" into a pandas Dataframe.\n",
        "2. Display the first 5 rows of the dataframe.\n",
        "3. Display column names.\n",
        "4. Display the data types of each column.\n",
        "\n",
        "\n",
        "```\n",
        "# Write solution here.\n",
        "```\n",
        "\n",
        "\n",
        "---\n",
        "**3: Basic Pandas Commands**\n",
        "\n",
        "**1. Examining Your Data**\n",
        "\n",
        "*Taking a Peek*"
      ],
      "metadata": {
        "id": "sz92sAPKgcKg"
      }
    },
    {
      "cell_type": "code",
      "source": [
        "# First 5 rows - the basic method\n",
        "print(df.head())"
      ],
      "metadata": {
        "colab": {
          "base_uri": "https://localhost:8080/"
        },
        "id": "AzkmXOtNldC2",
        "outputId": "fa7c0cf2-bc95-45d8-de74-8aa47099783b"
      },
      "execution_count": null,
      "outputs": [
        {
          "output_type": "stream",
          "name": "stdout",
          "text": [
            "  Make and model  Price  Mileage (mpg)  Repair record 1978  Headroom (in.)  \\\n",
            "0    AMC Concord   4099             22                 3.0             2.5   \n",
            "1      AMC Pacer   4749             17                 3.0             3.0   \n",
            "2     AMC Spirit   3799             22                 NaN             3.0   \n",
            "3  Buick Century   4816             20                 3.0             4.5   \n",
            "4  Buick Electra   7827             15                 4.0             4.0   \n",
            "\n",
            "   Trunk space (cu. ft.)  Weight (lbs.)  Length (in.)  Turn circle (ft.)  \\\n",
            "0                     11           2930           186                 40   \n",
            "1                     11           3350           173                 40   \n",
            "2                     12           2640           168                 35   \n",
            "3                     16           3250           196                 40   \n",
            "4                     20           4080           222                 43   \n",
            "\n",
            "   Displacement (cu. in.)  Gear ratio Car origin  \n",
            "0                     121        3.58   Domestic  \n",
            "1                     258        2.53   Domestic  \n",
            "2                     121        3.08   Domestic  \n",
            "3                     196        2.93   Domestic  \n",
            "4                     350        2.41   Domestic  \n"
          ]
        }
      ]
    },
    {
      "cell_type": "code",
      "source": [
        "df.head()"
      ],
      "metadata": {
        "id": "R5JmXKTaXSYy"
      },
      "execution_count": null,
      "outputs": []
    },
    {
      "cell_type": "code",
      "source": [
        "# First 5 rows - with formating to make it easier to read\n",
        "print(df.head().to_markdown(index=False, numalign=\"left\", stralign=\"left\"))"
      ],
      "outputs": [
        {
          "output_type": "stream",
          "name": "stdout",
          "text": [
            "| Make and model   | Price   | Mileage (mpg)   | Repair record 1978   | Headroom (in.)   | Trunk space (cu. ft.)   | Weight (lbs.)   | Length (in.)   | Turn circle (ft.)   | Displacement (cu. in.)   | Gear ratio   | Car origin   |\n",
            "|:-----------------|:--------|:----------------|:---------------------|:-----------------|:------------------------|:----------------|:---------------|:--------------------|:-------------------------|:-------------|:-------------|\n",
            "| AMC Concord      | 4099    | 22              | 3                    | 2.5              | 11                      | 2930            | 186            | 40                  | 121                      | 3.58         | Domestic     |\n",
            "| AMC Pacer        | 4749    | 17              | 3                    | 3                | 11                      | 3350            | 173            | 40                  | 258                      | 2.53         | Domestic     |\n",
            "| AMC Spirit       | 3799    | 22              | nan                  | 3                | 12                      | 2640            | 168            | 35                  | 121                      | 3.08         | Domestic     |\n",
            "| Buick Century    | 4816    | 20              | 3                    | 4.5              | 16                      | 3250            | 196            | 40                  | 196                      | 2.93         | Domestic     |\n",
            "| Buick Electra    | 7827    | 15              | 4                    | 4                | 20                      | 4080            | 222            | 43                  | 350                      | 2.41         | Domestic     |\n"
          ]
        }
      ],
      "execution_count": null,
      "metadata": {
        "colab": {
          "base_uri": "https://localhost:8080/"
        },
        "id": "AChcWDE6gcKh",
        "outputId": "2409a6b0-c6c3-433c-9ff8-a87f23e4a79a"
      }
    },
    {
      "cell_type": "markdown",
      "source": [
        "**Questions**\n",
        "- What does .to_markdown do?\n",
        "- What is numalign?\n",
        "- What is stralign?"
      ],
      "metadata": {
        "id": "tw2RX09Xlore"
      }
    },
    {
      "cell_type": "markdown",
      "source": [
        "**Multiple Choice Question**\n",
        "\n",
        "What does the `df.head()` function do?\n",
        "\n",
        "a) Displays the first 5 rows of the DataFrame.\n",
        "\n",
        "b) Shows the last 5 rows of the DataFrame.\n",
        "\n",
        "c) Provides a summary of the DataFrame's statistics.\n",
        "\n",
        "d) Displays the column names of the DataFrame.\n"
      ],
      "metadata": {
        "id": "KrxtYckigcKh"
      }
    },
    {
      "cell_type": "code",
      "source": [
        "# Column names\n",
        "print(df.columns)"
      ],
      "metadata": {
        "colab": {
          "base_uri": "https://localhost:8080/"
        },
        "id": "7Gt4cKIzlJKa",
        "outputId": "81f4b640-99b5-47fa-adcf-518fb40d7601"
      },
      "execution_count": null,
      "outputs": [
        {
          "output_type": "stream",
          "name": "stdout",
          "text": [
            "Index(['Make and model', 'Price', 'Mileage (mpg)', 'Repair record 1978',\n",
            "       'Headroom (in.)', 'Trunk space (cu. ft.)', 'Weight (lbs.)',\n",
            "       'Length (in.)', 'Turn circle (ft.)', 'Displacement (cu. in.)',\n",
            "       'Gear ratio', 'Car origin'],\n",
            "      dtype='object')\n"
          ]
        }
      ]
    },
    {
      "cell_type": "code",
      "source": [
        "# Print column names, but make it more readable\n",
        "for col in df.columns:\n",
        "  print(col)"
      ],
      "metadata": {
        "colab": {
          "base_uri": "https://localhost:8080/"
        },
        "id": "wBGZiUlRl2Eq",
        "outputId": "35aefe86-addc-401f-a288-cca25b9c812d"
      },
      "execution_count": null,
      "outputs": [
        {
          "output_type": "stream",
          "name": "stdout",
          "text": [
            "Make and model\n",
            "Price\n",
            "Mileage (mpg)\n",
            "Repair record 1978\n",
            "Headroom (in.)\n",
            "Trunk space (cu. ft.)\n",
            "Weight (lbs.)\n",
            "Length (in.)\n",
            "Turn circle (ft.)\n",
            "Displacement (cu. in.)\n",
            "Gear ratio\n",
            "Car origin\n"
          ]
        }
      ]
    },
    {
      "cell_type": "code",
      "source": [
        "# Data types\n",
        "print(df.dtypes)"
      ],
      "metadata": {
        "colab": {
          "base_uri": "https://localhost:8080/"
        },
        "id": "6BENSwYKlLpn",
        "outputId": "028f30db-ad4d-4b2c-b44b-3f7f55ea7c4d"
      },
      "execution_count": null,
      "outputs": [
        {
          "output_type": "stream",
          "name": "stdout",
          "text": [
            "Make and model             object\n",
            "Price                       int64\n",
            "Mileage (mpg)               int64\n",
            "Repair record 1978        float64\n",
            "Headroom (in.)            float64\n",
            "Trunk space (cu. ft.)       int64\n",
            "Weight (lbs.)               int64\n",
            "Length (in.)                int64\n",
            "Turn circle (ft.)           int64\n",
            "Displacement (cu. in.)      int64\n",
            "Gear ratio                float64\n",
            "Car origin                 object\n",
            "dtype: object\n"
          ]
        }
      ]
    },
    {
      "cell_type": "code",
      "source": [
        "# Information about your data\n",
        "print(df.info()))"
      ],
      "metadata": {
        "colab": {
          "base_uri": "https://localhost:8080/"
        },
        "id": "T-NAmWNylN0R",
        "outputId": "77f101e8-163c-44f7-d67b-01f702e47693"
      },
      "execution_count": null,
      "outputs": [
        {
          "output_type": "stream",
          "name": "stdout",
          "text": [
            "<class 'pandas.core.frame.DataFrame'>\n",
            "RangeIndex: 74 entries, 0 to 73\n",
            "Data columns (total 12 columns):\n",
            " #   Column                  Non-Null Count  Dtype  \n",
            "---  ------                  --------------  -----  \n",
            " 0   Make and model          74 non-null     object \n",
            " 1   Price                   74 non-null     int64  \n",
            " 2   Mileage (mpg)           74 non-null     int64  \n",
            " 3   Repair record 1978      69 non-null     float64\n",
            " 4   Headroom (in.)          74 non-null     float64\n",
            " 5   Trunk space (cu. ft.)   74 non-null     int64  \n",
            " 6   Weight (lbs.)           74 non-null     int64  \n",
            " 7   Length (in.)            74 non-null     int64  \n",
            " 8   Turn circle (ft.)       74 non-null     int64  \n",
            " 9   Displacement (cu. in.)  74 non-null     int64  \n",
            " 10  Gear ratio              74 non-null     float64\n",
            " 11  Car origin              74 non-null     object \n",
            "dtypes: float64(3), int64(7), object(2)\n",
            "memory usage: 7.1+ KB\n",
            "None\n"
          ]
        }
      ]
    },
    {
      "cell_type": "markdown",
      "source": [
        "\n",
        "**2. Selecting Data**\n",
        "\n",
        "*Selecting Columns*"
      ],
      "metadata": {
        "id": "rCNhokFumNpq"
      }
    },
    {
      "cell_type": "code",
      "source": [
        "# Select a single column\n",
        "prices = df['Price']\n",
        "\n",
        "# Select multiple columns\n",
        "price_and_mileage = df[['Price', 'Mileage (mpg)']]"
      ],
      "outputs": [],
      "execution_count": null,
      "metadata": {
        "id": "l79QBcTkgcKh"
      }
    },
    {
      "cell_type": "code",
      "source": [
        "# Let's look at prices\n",
        "print(type(prices))"
      ],
      "metadata": {
        "colab": {
          "base_uri": "https://localhost:8080/"
        },
        "id": "qLiuNN7hqNHy",
        "outputId": "6a7fba67-ad75-44c5-b679-0a56bec3dafc"
      },
      "execution_count": null,
      "outputs": [
        {
          "output_type": "stream",
          "name": "stdout",
          "text": [
            "<class 'pandas.core.series.Series'>\n"
          ]
        }
      ]
    },
    {
      "cell_type": "code",
      "source": [
        "# Check the type of prices\n",
        "print(type(prices))"
      ],
      "metadata": {
        "colab": {
          "base_uri": "https://localhost:8080/"
        },
        "id": "eCJPmK7OqdRM",
        "outputId": "ba5e9315-d409-4c8b-e1bd-5493b7f6bae1"
      },
      "execution_count": null,
      "outputs": [
        {
          "output_type": "stream",
          "name": "stdout",
          "text": [
            "<class 'pandas.core.series.Series'>\n"
          ]
        }
      ]
    },
    {
      "cell_type": "code",
      "source": [
        "# Print the first element of prices\n",
        "print(prices[0])"
      ],
      "metadata": {
        "colab": {
          "base_uri": "https://localhost:8080/"
        },
        "id": "cUG88_wOqgNi",
        "outputId": "38089b31-b46e-4710-9068-9f2338a51887"
      },
      "execution_count": null,
      "outputs": [
        {
          "output_type": "stream",
          "name": "stdout",
          "text": [
            "4099\n"
          ]
        }
      ]
    },
    {
      "cell_type": "code",
      "source": [
        "# Let's look at price_and_mileage\n",
        "print(price_and_mileage.iloc[10:15,0:2])"
      ],
      "metadata": {
        "colab": {
          "base_uri": "https://localhost:8080/"
        },
        "id": "OTg7q_Jiqn9D",
        "outputId": "22b36891-7719-48f4-fe64-c4c724c4c73b"
      },
      "execution_count": null,
      "outputs": [
        {
          "output_type": "stream",
          "name": "stdout",
          "text": [
            "    Price  Mileage (mpg)\n",
            "10  11385             14\n",
            "11  14500             14\n",
            "12  15906             21\n",
            "13   3299             29\n",
            "14   5705             16\n"
          ]
        }
      ]
    },
    {
      "cell_type": "code",
      "source": [
        "# Let's look at price_and_mileage\n",
        "print(price_and_mileage['Mileage (mpg)'][0])\n",
        "print('\\n')\n",
        "print(price_and_mileage['Price'][0])\n",
        "print('\\n')\n",
        "print(type(price_and_mileage))\n",
        "print('\\n')\n",
        "print(price_and_mileage.head())"
      ],
      "metadata": {
        "colab": {
          "base_uri": "https://localhost:8080/"
        },
        "id": "1QHTWwErqxDG",
        "outputId": "44ec745c-7290-42eb-b2c1-11a8fc653126"
      },
      "execution_count": null,
      "outputs": [
        {
          "output_type": "stream",
          "name": "stdout",
          "text": [
            "22\n",
            "\n",
            "\n",
            "4099\n",
            "\n",
            "\n",
            "<class 'pandas.core.frame.DataFrame'>\n",
            "\n",
            "\n",
            "   Price  Mileage (mpg)\n",
            "0   4099             22\n",
            "1   4749             17\n",
            "2   3799             22\n",
            "3   4816             20\n",
            "4   7827             15\n"
          ]
        }
      ]
    },
    {
      "cell_type": "markdown",
      "source": [
        "**3. Filtering Data**\n",
        "\n",
        "**Section 1: Filtering by Single Condition**\n",
        "\n",
        "Filtering allows you to select specific rows from a DataFrame based on certain conditions. The simplest way to filter is by a single condition.\n",
        "\n",
        "**Syntax:**"
      ],
      "metadata": {
        "id": "1k3vV0Vlp5QM"
      }
    },
    {
      "cell_type": "code",
      "source": [
        "filtered_df = df[df['column_name'] == 'value']"
      ],
      "outputs": [],
      "execution_count": null,
      "metadata": {
        "id": "samusAASp5QT"
      }
    },
    {
      "cell_type": "markdown",
      "source": [
        "or"
      ],
      "metadata": {
        "id": "1Z0IFln-p5QU"
      }
    },
    {
      "cell_type": "code",
      "source": [
        "filtered_df = df[df['column_name'] > value]"
      ],
      "outputs": [],
      "execution_count": null,
      "metadata": {
        "id": "CAM2mjbmp5QV"
      }
    },
    {
      "cell_type": "markdown",
      "source": [
        "Replace:\n",
        "\n",
        "- `df` with your DataFrame name.\n",
        "- `column_name` with the name of the column you want to filter on.\n",
        "- `value` with the value you want to match or compare against.\n",
        "\n",
        "**Example:** Filter cars with origin as 'Domestic'"
      ],
      "metadata": {
        "id": "0UkFrXIWp5QV"
      }
    },
    {
      "cell_type": "code",
      "source": [
        "# Filter by 'Car origin'\n",
        "domestic_cars = df[df['Car origin'] == 'Domestic']\n",
        "print(\"Domestic cars:\\n\", domestic_cars.head().to_markdown(index=False, numalign=\"left\", stralign=\"left\"))"
      ],
      "outputs": [
        {
          "output_type": "stream",
          "name": "stdout",
          "text": [
            "Domestic cars:\n",
            " | Make and model   | Price   | Mileage (mpg)   | Repair record 1978   | Headroom (in.)   | Trunk space (cu. ft.)   | Weight (lbs.)   | Length (in.)   | Turn circle (ft.)   | Displacement (cu. in.)   | Gear ratio   | Car origin   |\n",
            "|:-----------------|:--------|:----------------|:---------------------|:-----------------|:------------------------|:----------------|:---------------|:--------------------|:-------------------------|:-------------|:-------------|\n",
            "| AMC Concord      | 4099    | 22              | 3                    | 2.5              | 11                      | 2930            | 186            | 40                  | 121                      | 3.58         | Domestic     |\n",
            "| AMC Pacer        | 4749    | 17              | 3                    | 3                | 11                      | 3350            | 173            | 40                  | 258                      | 2.53         | Domestic     |\n",
            "| AMC Spirit       | 3799    | 22              | nan                  | 3                | 12                      | 2640            | 168            | 35                  | 121                      | 3.08         | Domestic     |\n",
            "| Buick Century    | 4816    | 20              | 3                    | 4.5              | 16                      | 3250            | 196            | 40                  | 196                      | 2.93         | Domestic     |\n",
            "| Buick Electra    | 7827    | 15              | 4                    | 4                | 20                      | 4080            | 222            | 43                  | 350                      | 2.41         | Domestic     |\n"
          ]
        }
      ],
      "execution_count": null,
      "metadata": {
        "id": "7gC8M39Mp5Qb",
        "colab": {
          "base_uri": "https://localhost:8080/"
        },
        "outputId": "3d9e8e12-b0f3-454e-e9c1-09e34ab1cdec"
      }
    },
    {
      "cell_type": "markdown",
      "source": [
        "**Question:**\n",
        "\n",
        "How would you filter for cars with a price greater than $10,000?\n",
        "\n",
        "**Section 2: Filtering by Multiple Conditions**\n",
        "\n",
        "You can filter by multiple conditions using logical operators:\n",
        "\n",
        "- `&` (and)\n",
        "- `|` (or)\n",
        "- `~` (not)\n",
        "\n",
        "**Syntax:**"
      ],
      "metadata": {
        "id": "aRGQsSNXp5Qb"
      }
    },
    {
      "cell_type": "code",
      "source": [
        "filtered_df = df[(df['column1'] == 'value1') & (df['column2'] > value2)]"
      ],
      "outputs": [],
      "execution_count": null,
      "metadata": {
        "id": "ra1xNj2Xp5Qb"
      }
    },
    {
      "cell_type": "markdown",
      "source": [
        "**Example:** Filter domestic cars with mileage greater than 25 mpg"
      ],
      "metadata": {
        "id": "Lubb-IOTp5Qb"
      }
    },
    {
      "cell_type": "code",
      "source": [
        "# Filter by 'Car origin' and 'Mileage (mpg)'\n",
        "domestic_high_mileage_cars = df[(df['Car origin'] == 'Domestic') & (df['Mileage (mpg)'] > 25)]\n",
        "print(\"\\nDomestic cars with high mileage:\\n\", domestic_high_mileage_cars.head().to_markdown(index=False, numalign=\"left\", stralign=\"left\"))"
      ],
      "outputs": [],
      "execution_count": null,
      "metadata": {
        "id": "bm60eDzgp5Qh"
      }
    },
    {
      "cell_type": "markdown",
      "source": [
        "**Question:**\n",
        "\n",
        "How would you filter for cars that are either 'Ford' or 'Chevrolet' and have a price less than $6000?\n",
        "\n",
        "**Section 3: Filtering by Text/Object Values**\n",
        "\n",
        "When working with text data, you can use string methods like:\n",
        "\n",
        "- `.str.contains()`\n",
        "- `.str.startswith()`\n",
        "- `.str.endswith()`\n",
        "\n",
        "**Example:** Filter cars with 'Ford' in their name"
      ],
      "metadata": {
        "id": "ZxPbDbHDp5Qh"
      }
    },
    {
      "cell_type": "code",
      "source": [
        "# Filter by 'Make and model' containing 'Ford'\n",
        "ford_cars = df[df['Make and model'].str.contains('Ford')]\n",
        "print(\"\\nFord cars:\\n\", ford_cars.head().to_markdown(index=False, numalign=\"left\", stralign=\"left\"))"
      ],
      "outputs": [],
      "execution_count": null,
      "metadata": {
        "id": "EZehvZ12p5Qi"
      }
    },
    {
      "cell_type": "markdown",
      "source": [
        "**Question:**\n",
        "\n",
        "How would you filter for cars whose model names end with 'a'?\n",
        "\n",
        "**Section 4: Combining Multiple Filtering Techniques**\n",
        "\n",
        "You can combine different filtering techniques to create more complex queries.\n",
        "\n",
        "**Example:** Filter affordable cars (price < $5000) or cars with high mileage (> 30 mpg)"
      ],
      "metadata": {
        "id": "QigQfw3Dp5Qi"
      }
    },
    {
      "cell_type": "code",
      "source": [
        "# Filter by 'Price' or 'Mileage (mpg)'\n",
        "affordable_or_high_mileage_cars = df[(df['Price'] < 5000) | (df['Mileage (mpg)'] > 30)]\n",
        "print(\"\\nAffordable or high mileage cars:\\n\", affordable_or_high_mileage_cars.head().to_markdown(index=False, numalign=\"left\", stralign=\"left\"))"
      ],
      "outputs": [],
      "execution_count": null,
      "metadata": {
        "id": "otfLbQ_ap5Qn"
      }
    },
    {
      "cell_type": "markdown",
      "source": [
        "**Question:**\n",
        "\n",
        "How would you filter for domestic cars that are not made by 'Chevrolet' and have a trunk space of more than 15 cubic feet?"
      ],
      "metadata": {
        "id": "vJd1u9Ewp5Qo"
      }
    },
    {
      "cell_type": "markdown",
      "source": [
        "**Challenge:**\n",
        "\n",
        "1. Select the first 10 rows where the 'Car origin' is 'Foreign'.\n",
        "2. Select rows where the 'Price' is greater than the mean price.\n",
        "3. Filter rows where either 'Mileage (mpg)' is greater than 30 or 'Trunk space (cu. ft.)' is greater than 15.\n",
        "\n",
        "```\n",
        "# Write solution here.\n",
        "```\n",
        "\n",
        "---\n",
        "\n",
        "**4: Summary Statistics**"
      ],
      "metadata": {
        "id": "XgAJpSYWgcKj"
      }
    },
    {
      "cell_type": "code",
      "source": [
        "# Descriptive statistics\n",
        "print(df.describe().round(2).to_markdown(numalign=\"left\", stralign=\"left\"))"
      ],
      "outputs": [],
      "execution_count": null,
      "metadata": {
        "id": "nxu-iMhdgcKk"
      }
    },
    {
      "cell_type": "markdown",
      "source": [
        "**Multiple Choice Question**\n",
        "\n",
        "What does the `df.describe()` function do?\n",
        "\n",
        "a) It calculates the sum of all numerical columns.\n",
        "\n",
        "b) It provides summary statistics (like mean, median, etc.) of the numerical columns.\n",
        "\n",
        "c) It counts the number of unique values in each column.\n",
        "\n",
        "d) It shows the first and last five rows of the DataFrame.\n",
        "\n",
        "\n",
        "---\n",
        "**5: Saving Your Work**"
      ],
      "metadata": {
        "id": "TOrJsU9XgcKk"
      }
    },
    {
      "cell_type": "code",
      "source": [
        "# Save to a new CSV file\n",
        "df.to_excel('/content/modified_automobile_data.xlsx', index=False)"
      ],
      "outputs": [],
      "execution_count": null,
      "metadata": {
        "id": "VPnyu8JwgcKl"
      }
    },
    {
      "cell_type": "markdown",
      "source": [
        "---\n",
        "\n",
        "**6: Handling Missing Data**\n",
        "\n",
        "Real-world datasets often have missing values. Pandas provides tools to handle them:\n",
        "\n",
        "**1. Identifying Missing Values**"
      ],
      "metadata": {
        "id": "xLMZkZefguE4"
      }
    },
    {
      "cell_type": "code",
      "source": [
        "# Check for missing values\n",
        "print(df.isnull().sum())"
      ],
      "outputs": [],
      "execution_count": null,
      "metadata": {
        "id": "gUYowgwjguE6"
      }
    },
    {
      "cell_type": "markdown",
      "source": [
        "**2. Dropping Missing Values**"
      ],
      "metadata": {
        "id": "7GqliY3-guE8"
      }
    },
    {
      "cell_type": "code",
      "source": [
        "# Fill missing values with a specific value\n",
        "df_filled = df.fillna({'Repair record 1978': 0})\n",
        "\n",
        "# Drop rows with any missing values\n",
        "# df_dropped = df.dropna()  # Dropping from the original dataset is not always ideal"
      ],
      "outputs": [],
      "execution_count": null,
      "metadata": {
        "id": "kV6SHzqBguE8"
      }
    },
    {
      "cell_type": "markdown",
      "source": [
        "**Challenge:**\n",
        "For the column `Repair Record 1978`, replace the missing values with the mean value of that column."
      ],
      "metadata": {
        "id": "isCei117guE8"
      }
    },
    {
      "cell_type": "code",
      "source": [
        "# Write solution here."
      ],
      "outputs": [],
      "execution_count": null,
      "metadata": {
        "id": "z7iStbENguE8"
      }
    },
    {
      "cell_type": "markdown",
      "source": [
        "---\n",
        "**7: Transforming Data**\n",
        "Pandas makes it easy to create new columns or change existing ones.\n"
      ],
      "metadata": {
        "id": "_Z9z1VgNguE8"
      }
    },
    {
      "cell_type": "markdown",
      "source": [
        "---\n",
        "**Section 1: Creating New Columns**\n",
        "\n",
        "**Explanation:**\n",
        "\n",
        "Often, the most interesting insights come from combining or deriving information from your existing data. Pandas makes it easy to create new columns that capture these relationships.\n",
        "\n",
        "**Code Example:**"
      ],
      "metadata": {
        "id": "bOO5ZbtGuNib"
      }
    },
    {
      "cell_type": "code",
      "source": [
        "# Create a new column by combining information from existing ones\n",
        "df['Price_per_MPG'] = df['Price'] / df['Mileage (mpg)']\n",
        "print(\"\\nData with new column 'Price_per_MPG':\\n\", df[['Make and model', 'Price', 'Mileage (mpg)', 'Price_per_MPG']].head().to_markdown(index=False, numalign=\"left\", stralign=\"left\"))"
      ],
      "outputs": [],
      "execution_count": null,
      "metadata": {
        "id": "VFWzCIa3uNib"
      }
    },
    {
      "cell_type": "markdown",
      "source": [
        "**Question:**\n",
        "\n",
        "What are some other examples of new columns you might want to create from this dataset?\n",
        "\n",
        "**Challenge:**\n",
        "\n",
        "1. Create a new column called `Value_Score` which is calculated as `Mileage (mpg)` multiplied by `Trunk space (cu. ft.)`, then divided by `Price`.\n",
        "2. Round the `Value_Score` to three decimal places."
      ],
      "metadata": {
        "id": "CHWfz5AZuNic"
      }
    },
    {
      "cell_type": "code",
      "source": [
        "# Write solution here."
      ],
      "outputs": [],
      "execution_count": null,
      "metadata": {
        "id": "DtdjXWXouNic"
      }
    },
    {
      "cell_type": "markdown",
      "source": [
        "---\n",
        "\n",
        "**Section 2: Modifying Existing Columns**\n",
        "\n",
        "**Explanation:**\n",
        "\n",
        "Sometimes, the data in your existing columns needs to be adjusted to fit your analysis. Pandas provides a multitude of ways to modify columns directly.\n",
        "\n",
        "**Code Example:**"
      ],
      "metadata": {
        "id": "MAbtTCCIuNid"
      }
    },
    {
      "cell_type": "code",
      "source": [
        "# Convert 'Weight (lbs.)' to kilograms\n",
        "df['Weight (kgs)'] = df['Weight (lbs.)'] * 0.453592\n",
        "print(\"\\nData with modified column 'Weight (kgs)':\\n\", df[['Make and model', 'Weight (lbs.)', 'Weight (kgs)']].head().to_markdown(index=False, numalign=\"left\", stralign=\"left\"))"
      ],
      "outputs": [],
      "execution_count": null,
      "metadata": {
        "id": "4CnLi3J7uNid"
      }
    },
    {
      "cell_type": "markdown",
      "source": [
        "**Question:**\n",
        "\n",
        "What are some reasons you might need to modify existing columns in a dataset?\n",
        "\n",
        "**Challenge:**\n",
        "\n",
        "Normalize the `Price` column by subtracting the mean price and dividing by the standard deviation of the price. Store the result in a new column called `Normalized_Price`."
      ],
      "metadata": {
        "id": "XXnYuRNnuNid"
      }
    },
    {
      "cell_type": "code",
      "source": [
        "# Write solution here."
      ],
      "outputs": [],
      "execution_count": null,
      "metadata": {
        "id": "qB3vbxWIuNid"
      }
    },
    {
      "cell_type": "markdown",
      "source": [
        "---\n",
        "**Section 3: Converting Data Types**\n",
        "\n",
        "**Explanation:**\n",
        "\n",
        "The data type of a column is crucial for how Pandas handles it. Ensuring the right data type enables correct calculations and operations.\n",
        "\n",
        "**Code Example:**"
      ],
      "metadata": {
        "id": "wmFk_taeuNid"
      }
    },
    {
      "cell_type": "code",
      "source": [
        "# Convert 'Car origin' to categorical\n",
        "df['Car origin'] = df['Car origin'].astype('category')\n",
        "print(df.info())"
      ],
      "outputs": [],
      "execution_count": null,
      "metadata": {
        "id": "dYJ-nYGGuNie"
      }
    },
    {
      "cell_type": "code",
      "source": [
        "# Create a categorical column based on conditions\n",
        "df['Price Category'] = pd.cut(df['Price'], bins=[0, 5000, 10000, float('inf')], labels=['Low', 'Medium', 'High'])"
      ],
      "outputs": [],
      "execution_count": null,
      "metadata": {
        "id": "RZJA4RgpguE9"
      }
    },
    {
      "cell_type": "markdown",
      "source": [
        "**Question:**\n",
        "\n",
        "Why is it important to have the correct data type for a column in your analysis?\n",
        "\n",
        "**Challenge:**\n",
        "\n",
        "The `Repair record 1978` column currently contains floating-point numbers, but it makes more sense for it to be integers since repair records are typically whole numbers. Convert it to an integer data type."
      ],
      "metadata": {
        "id": "GX_8GM4YuNie"
      }
    },
    {
      "cell_type": "code",
      "source": [
        "# Write solution here."
      ],
      "outputs": [],
      "execution_count": null,
      "metadata": {
        "id": "kRPgSIJfuNie"
      }
    },
    {
      "cell_type": "markdown",
      "source": [
        "**2. Modifying Existing Columns**"
      ],
      "metadata": {
        "id": "u26BdYkZguE9"
      }
    },
    {
      "cell_type": "code",
      "source": [
        "# Convert 'Weight (lbs.)' to kilograms and store in a new column.\n",
        "df[\"Weight(kgs)\"] = df[\"Weight (lbs.)\"] * 0.453592"
      ],
      "outputs": [],
      "execution_count": null,
      "metadata": {
        "id": "Zi0Rvbn9guE9"
      }
    },
    {
      "cell_type": "markdown",
      "source": [
        "**Challenge:**\n",
        "\n",
        "Create a new column called `Affordable` which is 'Yes' if the price of the car is less than $5000 and 'No' otherwise."
      ],
      "metadata": {
        "id": "-5Bm4gB-guE-"
      }
    },
    {
      "cell_type": "code",
      "source": [
        "# Write solution here."
      ],
      "outputs": [],
      "execution_count": null,
      "metadata": {
        "id": "9Kf4yxr2guE-"
      }
    },
    {
      "cell_type": "markdown",
      "source": [
        "---\n",
        "**8: Grouping and Aggregating**\n",
        "\n",
        "This is where Pandas shines! We can group data by categories and calculate statistics for each group:"
      ],
      "metadata": {
        "id": "FcqY5K9zguE-"
      }
    },
    {
      "cell_type": "code",
      "source": [
        "# Group by 'Car origin' and calculate mean price and mileage for each group\n",
        "grouped_data = df.groupby('Car origin')[['Price', 'Mileage (mpg)']].mean()\n",
        "print(grouped_data)"
      ],
      "outputs": [],
      "execution_count": null,
      "metadata": {
        "id": "cze3qqVBguE-"
      }
    },
    {
      "cell_type": "code",
      "source": [
        "print(type(grouped_data))\n",
        "df.to_excel('/content/grouped_data.xlsx', index=False)"
      ],
      "metadata": {
        "id": "RaYQTY7su9dI"
      },
      "execution_count": null,
      "outputs": []
    },
    {
      "cell_type": "markdown",
      "source": [
        "**Challenge:**\n",
        "\n",
        "1. Group the dataframe by `Price Category` and find the average `Mileage (mpg)` and `Trunk space (cu. ft.)` for each category.\n",
        "2. Group by `Car origin` and count the number of cars in each origin."
      ],
      "metadata": {
        "id": "V9833xalguE_"
      }
    },
    {
      "cell_type": "code",
      "source": [
        "# Write solution here."
      ],
      "outputs": [],
      "execution_count": null,
      "metadata": {
        "id": "y9EXPI_5guE_"
      }
    }
  ],
  "metadata": {
    "colab": {
      "provenance": []
    },
    "kernelspec": {
      "display_name": "Python 3",
      "name": "python3"
    }
  },
  "nbformat": 4,
  "nbformat_minor": 0
}