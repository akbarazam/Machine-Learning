{
  "cells": [
    {
      "cell_type": "markdown",
      "source": [
        "The notebook will focus on data filtering, slicing, summarizing, and presenting.  "
      ],
      "metadata": {
        "id": "3a0IKRex60dk"
      }
    },
    {
      "cell_type": "code",
      "source": [
        "import pandas as pd\n",
        "\n",
        "# Read the CSV file into a DataFrame\n",
        "df = pd.read_excel('/content/automobile_dataset.xlsx')\n",
        "\n",
        "# Drop null values in `Repair record 1978`\n",
        "df.dropna(subset = ['Repair record 1978'], inplace=True)\n",
        "\n",
        "# Convert columns to numeric\n",
        "df['Price'] = pd.to_numeric(df['Price'])\n",
        "df['Mileage (mpg)'] = pd.to_numeric(df['Mileage (mpg)'])\n",
        "df['Weight (lbs.)'] = pd.to_numeric(df['Weight (lbs.)'])\n",
        "df['Displacement (cu. in.)'] = pd.to_numeric(df['Displacement (cu. in.)'])\n",
        "\n",
        "# Create new column `Weight_kg`\n",
        "df['Weight_kg'] = df['Weight (lbs.)'] * 0.453592\n",
        "\n",
        "# Create new column `Price_per_100km`\n",
        "df['Price_per_100km'] = (df['Price'] / df['Mileage (mpg)']) * 235.215\n",
        "\n",
        "# Create new column `Efficient`\n",
        "mean_mileage = df['Mileage (mpg)'].mean()\n",
        "df['Efficient'] = ['Yes' if mileage > mean_mileage else 'No' for mileage in df['Mileage (mpg)']]\n",
        "\n",
        "# Print the first 5 rows\n",
        "print(df.head().to_markdown(index=False, numalign=\"left\", stralign=\"left\"))"
      ],
      "outputs": [],
      "execution_count": null,
      "metadata": {
        "id": "cmlmFags60do"
      }
    },
    {
      "cell_type": "markdown",
      "source": [
        "```text?code_stdout&code_event_index=3\n",
        "| Make and model   | Price   | Mileage (mpg)   | Repair record 1978   | Headroom (in.)   | Trunk space (cu. ft.)   | Weight (lbs.)   | Length (in.)   | Turn circle (ft.)   | Displacement (cu. in.)   | Gear ratio   | Car origin   | Weight_kg   | Price_per_100km   | Efficient   |\n",
        "|:-----------------|:--------|:----------------|:---------------------|:-----------------|:------------------------|:----------------|:---------------|:--------------------|:-------------------------|:-------------|:-------------|:------------|:------------------|:------------|\n",
        "| AMC Concord      | 4099    | 22              | 3                    | 2.5              | 11                      | 2930            | 186            | 40                  | 121                      | 3.58         | Domestic     | 1329.02     | 43824.8           | Yes         |\n",
        "| AMC Pacer        | 4749    | 17              | 3                    | 3                | 11                      | 3350            | 173            | 40                  | 258                      | 2.53         | Domestic     | 1519.53     | 65708             | No          |\n",
        "| Buick Century    | 4816    | 20              | 3                    | 4.5              | 16                      | 3250            | 196            | 40                  | 196                      | 2.93         | Domestic     | 1474.17     | 56639.8           | No          |\n",
        "| Buick Electra    | 7827    | 15              | 4                    | 4                | 20                      | 4080            | 222            | 43                  | 350                      | 2.41         | Domestic     | 1850.66     | 122735            | No          |\n",
        "| Buick LeSabre    | 5788    | 18              | 3                    | 4                | 21                      | 3670            | 218            | 43                  | 231                      | 2.73         | Domestic     | 1664.68     | 75634.7           | No          |\n",
        "\n",
        "```\n",
        "Here's the Python notebook for the follow-up lesson, incorporating the data transformations you requested:\n",
        "\n",
        "## Pandas: Filtering, Slicing, Summarizing, and Presenting Data\n",
        "\n",
        "In this lesson, we'll build on your basic Pandas knowledge and explore how to:\n",
        "\n",
        "1. **Filter:** Select specific rows based on conditions.\n",
        "2. **Slice:** Extract subsets of your data.\n",
        "3. **Summarize:** Calculate statistics and aggregate information.\n",
        "4. **Present:** Display your findings clearly.\n",
        "\n",
        "We'll continue using the automobile dataset from the previous lesson."
      ],
      "metadata": {
        "id": "alSKCY7h60dq"
      }
    },
    {
      "cell_type": "code",
      "source": [
        "import pandas as pd\n",
        "\n",
        "# Read the CSV file into a DataFrame\n",
        "df = pd.read_excel('/content/automobile_dataset.xlsx')\n",
        "\n",
        "# Drop null values in `Repair record 1978`\n",
        "df.dropna(subset = ['Repair record 1978'], inplace=True)\n",
        "\n",
        "# Convert columns to numeric\n",
        "df['Price'] = pd.to_numeric(df['Price'])\n",
        "df['Mileage (mpg)'] = pd.to_numeric(df['Mileage (mpg)'])\n",
        "df['Weight (lbs.)'] = pd.to_numeric(df['Weight (lbs.)'])\n",
        "df['Displacement (cu. in.)'] = pd.to_numeric(df['Displacement (cu. in.)'])\n",
        "\n",
        "# Create new column `Weight_kg`\n",
        "df['Weight_kg'] = df['Weight (lbs.)'] * 0.453592\n",
        "\n",
        "# Create new column `Price_per_100km`\n",
        "df['Price_per_100km'] = (df['Price'] / df['Mileage (mpg)']) * 235.215\n",
        "\n",
        "# Create new column `Efficient`\n",
        "mean_mileage = df['Mileage (mpg)'].mean()\n",
        "df['Efficient'] = ['Yes' if mileage > mean_mileage else 'No' for mileage in df['Mileage (mpg)']]\n",
        "\n",
        "# Print the first 5 rows\n",
        "print(df.head().to_markdown(index=False, numalign=\"left\", stralign=\"left\"))"
      ],
      "outputs": [],
      "execution_count": null,
      "metadata": {
        "id": "OynUoNlM60ds"
      }
    },
    {
      "cell_type": "markdown",
      "source": [
        "### Section 1: Filtering Data\n",
        "\n",
        "**Filtering by Condition:**"
      ],
      "metadata": {
        "id": "VEk7W4hE60ds"
      }
    },
    {
      "cell_type": "code",
      "source": [
        "# Filter cars with high mileage (greater than 30 mpg)\n",
        "high_mileage_cars = df[df['Mileage (mpg)'] > 30]\n",
        "print(\"\\nHigh Mileage Cars:\\n\", high_mileage_cars[['Make and model', 'Mileage (mpg)']].to_markdown(index=False, numalign=\"left\", stralign=\"left\"))"
      ],
      "outputs": [],
      "execution_count": null,
      "metadata": {
        "id": "5er3xp5160ds"
      }
    },
    {
      "cell_type": "markdown",
      "source": [
        "**Multiple Choice Question 1:**\n",
        "\n",
        "Which operator is used to filter rows where the 'Price' is less than 5000 AND the 'Car origin' is 'Domestic'?\n",
        "\n",
        "a) `|` (or)\n",
        "b) `&` (and)\n",
        "c) `~` (not)\n",
        "d) `^` (xor)\n",
        "\n",
        "**Answer:** b) `&` (and)\n",
        "\n",
        "**Filtering with `.isin()`:**"
      ],
      "metadata": {
        "id": "-pnhcCfa60dt"
      }
    },
    {
      "cell_type": "code",
      "source": [
        "# Filter cars made by Ford or Chevrolet\n",
        "ford_or_chev = df[df['Make and model'].str.contains('Ford|Chev')]\n",
        "print(\"\\nFord or Chevrolet Cars:\\n\", ford_or_chev[['Make and model']].to_markdown(index=False, numalign=\"left\", stralign=\"left\"))"
      ],
      "outputs": [],
      "execution_count": null,
      "metadata": {
        "id": "5JzMXFnY60dt"
      }
    },
    {
      "cell_type": "markdown",
      "source": [
        "**Challenge 1:**\n",
        "\n",
        "Filter the DataFrame to show only cars that are either 'Domestic' or 'Efficient' and have a `Price_per_100km` less than 70."
      ],
      "metadata": {
        "id": "PGIsVO3q60dt"
      }
    },
    {
      "cell_type": "code",
      "source": [
        "# Write solution here."
      ],
      "outputs": [],
      "execution_count": null,
      "metadata": {
        "id": "ZFYNj_iP60dt"
      }
    },
    {
      "cell_type": "markdown",
      "source": [
        "### Section 2: Slicing Data\n",
        "\n",
        "**Selecting Rows and Columns:**"
      ],
      "metadata": {
        "id": "5SssInpC60du"
      }
    },
    {
      "cell_type": "code",
      "source": [
        "# Select the first 3 rows and specific columns\n",
        "subset = df.loc[:2, ['Make and model', 'Price', 'Mileage (mpg)']]\n",
        "print(\"\\nSubset of Data:\\n\", subset.to_markdown(index=False, numalign=\"left\", stralign=\"left\"))"
      ],
      "outputs": [],
      "execution_count": null,
      "metadata": {
        "id": "1E7gnekV60du"
      }
    },
    {
      "cell_type": "markdown",
      "source": [
        "**Multiple Choice Question 2:**\n",
        "\n",
        "What does the `df.iloc[5:10, 1:3]` statement do?\n",
        "\n",
        "a) Selects rows 5 to 10 and all columns.\n",
        "b) Selects rows 5 to 9 and columns 1 and 2.\n",
        "c) Selects rows 0 to 4 and columns 1 and 2.\n",
        "d) Selects all rows and columns 5 to 9.\n",
        "\n",
        "**Answer:** b) Selects rows 5 to 9 (exclusive of 10) and columns 1 and 2 (exclusive of 3).\n",
        "\n",
        "**Challenge 2:**\n",
        "\n",
        "Select the rows where the `Car origin` is 'Foreign' and display only the columns `Make and model`, `Weight_kg`, and `Price_per_100km`."
      ],
      "metadata": {
        "id": "t7y38pPd60du"
      }
    },
    {
      "cell_type": "code",
      "source": [
        "# Write solution here."
      ],
      "outputs": [],
      "execution_count": null,
      "metadata": {
        "id": "F7NnpEtC60dv"
      }
    },
    {
      "cell_type": "markdown",
      "source": [
        "### Section 3: Summarizing Data\n",
        "\n",
        "**Descriptive Statistics:**"
      ],
      "metadata": {
        "id": "folzLlo460dv"
      }
    },
    {
      "cell_type": "code",
      "source": [
        "# Get summary statistics for numerical columns\n",
        "summary_stats = df[['Price', 'Mileage (mpg)', 'Weight_kg', 'Price_per_100km']].describe()\n",
        "print(\"\\nSummary Statistics:\\n\", summary_stats.to_markdown(numalign=\"left\", stralign=\"left\"))"
      ],
      "outputs": [],
      "execution_count": null,
      "metadata": {
        "id": "9MczTbc260dv"
      }
    },
    {
      "cell_type": "markdown",
      "source": [
        "**Group By and Aggregate:**"
      ],
      "metadata": {
        "id": "SBd6cvjL60dw"
      }
    },
    {
      "cell_type": "code",
      "source": [
        "# Calculate average price and mileage by car origin\n",
        "average_by_origin = df.groupby('Car origin')[['Price', 'Mileage (mpg)']].mean()\n",
        "print(\"\\nAverage Price and Mileage by Origin:\\n\", average_by_origin.to_markdown(numalign=\"left\", stralign=\"left\"))"
      ],
      "outputs": [],
      "execution_count": null,
      "metadata": {
        "id": "dxzMmG5g60dw"
      }
    },
    {
      "cell_type": "markdown",
      "source": [
        "**Multiple Choice Question 3:**\n",
        "\n",
        "Which function is used to calculate the average of a numerical column?\n",
        "\n",
        "a) `df.sum()`\n",
        "b) `df.mean()`\n",
        "c) `df.median()`\n",
        "d) `df.mode()`\n",
        "\n",
        "**Answer:** b) `df.mean()`\n",
        "\n",
        "**Challenge 3:**\n",
        "\n",
        "Calculate the median `Weight_kg` and the minimum and maximum `Price_per_100km` for each `Car origin`."
      ],
      "metadata": {
        "id": "Qkyn4t6u60dw"
      }
    },
    {
      "cell_type": "code",
      "source": [
        "# Write solution here."
      ],
      "outputs": [],
      "execution_count": null,
      "metadata": {
        "id": "_fm97rW960dw"
      }
    },
    {
      "cell_type": "markdown",
      "source": [
        "### Section 4: Presenting Data\n",
        "\n",
        "**Sorting:**"
      ],
      "metadata": {
        "id": "4PsQeAiu60dw"
      }
    },
    {
      "cell_type": "code",
      "source": [
        "# Sort cars by price in descending order\n",
        "sorted_by_price = df[['Make and model', 'Price']].sort_values('Price', ascending=False)\n",
        "print(\"\\nCars Sorted by Price (Descending):\\n\", sorted_by_price.head().to_markdown(index=False, numalign=\"left\", stralign=\"left\"))"
      ],
      "outputs": [],
      "execution_count": null,
      "metadata": {
        "id": "ttFBIb_S60dw"
      }
    },
    {
      "cell_type": "markdown",
      "source": [
        "**Challenge 4:**\n",
        "\n",
        "1. Sort the DataFrame by `Mileage (mpg)` in ascending order and save it as a new CSV file called \"sorted_cars.csv\".\n",
        "2. Display the first 5 rows of the sorted DataFrame."
      ],
      "metadata": {
        "id": "zT1OGeXz60dx"
      }
    },
    {
      "cell_type": "code",
      "source": [
        "# Write solution here."
      ],
      "outputs": [],
      "execution_count": null,
      "metadata": {
        "id": "Y_SLSDmZ60dx"
      }
    },
    {
      "cell_type": "markdown",
      "source": [
        "<div class=\"md-recitation\">\n",
        "  Sources\n",
        "  <ol>\n",
        "  <li><a href=\"https://github.com/wbuchanan/StataJSON\">https://github.com/wbuchanan/StataJSON</a></li>\n",
        "  </ol>\n",
        "</div>"
      ],
      "metadata": {
        "id": "5RuatbfC60dx"
      }
    }
  ],
  "metadata": {
    "colab": {
      "provenance": []
    },
    "kernelspec": {
      "display_name": "Python 3",
      "name": "python3"
    }
  },
  "nbformat": 4,
  "nbformat_minor": 0
}