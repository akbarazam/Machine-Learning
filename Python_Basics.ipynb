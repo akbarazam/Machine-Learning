{
  "cells": [
    {
      "cell_type": "markdown",
      "metadata": {
        "id": "QvVmb-XXY54c"
      },
      "source": [
        "# Python Basics"
      ]
    },
    {
      "cell_type": "markdown",
      "metadata": {
        "id": "9_NY6IfKY54d"
      },
      "source": [
        "## 1. First Steps"
      ]
    },
    {
      "cell_type": "markdown",
      "metadata": {
        "id": "u5GFwVXqY54e"
      },
      "source": [
        "In this session you will learn the Basics of Python."
      ]
    },
    {
      "cell_type": "code",
      "execution_count": null,
      "metadata": {
        "id": "ZTvG2HJrY54e"
      },
      "outputs": [],
      "source": [
        "5 #print a number"
      ]
    },
    {
      "cell_type": "code",
      "execution_count": null,
      "metadata": {
        "id": "wwWP7d3nY54f"
      },
      "outputs": [],
      "source": [
        "5+2 #addition"
      ]
    },
    {
      "cell_type": "code",
      "execution_count": null,
      "metadata": {
        "id": "v8rBUCqlY54f"
      },
      "outputs": [],
      "source": [
        "5-1 #substraction"
      ]
    },
    {
      "cell_type": "code",
      "execution_count": null,
      "metadata": {
        "id": "_S1C8Sb9Y54g"
      },
      "outputs": [],
      "source": [
        "5*2 #multiplication"
      ]
    },
    {
      "cell_type": "code",
      "execution_count": null,
      "metadata": {
        "id": "33lefFq8Y54g"
      },
      "outputs": [],
      "source": [
        "5**2 #exponentiation"
      ]
    },
    {
      "cell_type": "code",
      "execution_count": null,
      "metadata": {
        "id": "M_HTRPTlY54g"
      },
      "outputs": [],
      "source": [
        "5/2 #Division"
      ]
    },
    {
      "cell_type": "code",
      "execution_count": null,
      "metadata": {
        "id": "KaDrYE6LY54g"
      },
      "outputs": [],
      "source": [
        "type(5) #check type of data with function type()"
      ]
    },
    {
      "cell_type": "code",
      "execution_count": null,
      "metadata": {
        "id": "qln2uvbjY54h"
      },
      "outputs": [],
      "source": [
        "type(2.5)"
      ]
    },
    {
      "cell_type": "code",
      "execution_count": null,
      "metadata": {
        "id": "3PCJyv9fY54h"
      },
      "outputs": [],
      "source": [
        "\"Dog\" #creating a string with quotes"
      ]
    },
    {
      "cell_type": "code",
      "execution_count": null,
      "metadata": {
        "id": "klPFUH4LY54h"
      },
      "outputs": [],
      "source": [
        "type(\"Dog\")"
      ]
    },
    {
      "cell_type": "code",
      "execution_count": null,
      "metadata": {
        "id": "Aprl1L-jY54h"
      },
      "outputs": [],
      "source": [
        "#Dog #not a string, not definded variable"
      ]
    },
    {
      "cell_type": "code",
      "execution_count": null,
      "metadata": {
        "id": "0kUKPD1yY54h"
      },
      "outputs": [],
      "source": [
        "5+2 #by default jupyter only prints out last statement in a cell\n",
        "4-1"
      ]
    },
    {
      "cell_type": "code",
      "execution_count": null,
      "metadata": {
        "id": "N10_PJAKY54i"
      },
      "outputs": [],
      "source": [
        "print(5+2) #use print() to print out all operations you like\n",
        "4-1"
      ]
    },
    {
      "cell_type": "code",
      "execution_count": null,
      "metadata": {
        "id": "iACcnhjeY54i"
      },
      "outputs": [],
      "source": [
        "print(5+2,4-1) #print many operations with one print() call"
      ]
    },
    {
      "cell_type": "markdown",
      "metadata": {
        "id": "IAoWEWMeY54i"
      },
      "source": [
        "## 2. Variables"
      ]
    },
    {
      "cell_type": "code",
      "execution_count": null,
      "metadata": {
        "id": "zL96lwvYY54j"
      },
      "outputs": [],
      "source": [
        "a = 5 #assign integer object 5 to the variable a"
      ]
    },
    {
      "cell_type": "code",
      "execution_count": null,
      "metadata": {
        "id": "ZRZKpUalY54j"
      },
      "outputs": [],
      "source": [
        "a #print a"
      ]
    },
    {
      "cell_type": "code",
      "execution_count": null,
      "metadata": {
        "id": "WAwmIr7IY54j"
      },
      "outputs": [],
      "source": [
        "print(a) #print a"
      ]
    },
    {
      "cell_type": "code",
      "execution_count": null,
      "metadata": {
        "id": "Lg8EavlfY54j"
      },
      "outputs": [],
      "source": [
        "a = 7 #change the value of a, assign new object to a"
      ]
    },
    {
      "cell_type": "code",
      "execution_count": null,
      "metadata": {
        "id": "rSSZy0EKY54j"
      },
      "outputs": [],
      "source": [
        "a"
      ]
    },
    {
      "cell_type": "code",
      "execution_count": null,
      "metadata": {
        "id": "kM66oXp5Y54j"
      },
      "outputs": [],
      "source": [
        "b = 2 #assign integer object 2 to variable b"
      ]
    },
    {
      "cell_type": "code",
      "execution_count": null,
      "metadata": {
        "id": "ucZYqyKUY54k"
      },
      "outputs": [],
      "source": [
        "a #only b is printed out\n",
        "b"
      ]
    },
    {
      "cell_type": "code",
      "execution_count": null,
      "metadata": {
        "id": "RFl5dIurY54k"
      },
      "outputs": [],
      "source": [
        "print(a)\n",
        "b"
      ]
    },
    {
      "cell_type": "code",
      "execution_count": null,
      "metadata": {
        "id": "hPLkPX6JY54l"
      },
      "outputs": [],
      "source": [
        "print(a,b) #print both variables in one line"
      ]
    },
    {
      "cell_type": "code",
      "execution_count": null,
      "metadata": {
        "id": "EA9Cy-LcY54l"
      },
      "outputs": [],
      "source": [
        "print(a,b,sep = '\\n') #print both variables with line break"
      ]
    },
    {
      "cell_type": "code",
      "execution_count": null,
      "metadata": {
        "id": "GYSY-SoqY54l"
      },
      "outputs": [],
      "source": [
        "a+b #addition"
      ]
    },
    {
      "cell_type": "code",
      "execution_count": null,
      "metadata": {
        "id": "ET2zNuqZY54l"
      },
      "outputs": [],
      "source": [
        "a-b #substraction"
      ]
    },
    {
      "cell_type": "code",
      "execution_count": null,
      "metadata": {
        "id": "79Hzk6weY54l"
      },
      "outputs": [],
      "source": [
        "a*b #multiplication"
      ]
    },
    {
      "cell_type": "code",
      "execution_count": null,
      "metadata": {
        "id": "nxrlCiJVY54l"
      },
      "outputs": [],
      "source": [
        "c = a/b #division\n",
        "c"
      ]
    },
    {
      "cell_type": "code",
      "execution_count": null,
      "metadata": {
        "id": "WKLO360eY54m"
      },
      "outputs": [],
      "source": [
        "type(c) #division of two integers created float object\n"
      ]
    },
    {
      "cell_type": "code",
      "execution_count": null,
      "metadata": {
        "id": "F5bo1M93Y54m"
      },
      "outputs": [],
      "source": [
        "d = \"Dog\" #assigning the string \"Dog\" to variable d"
      ]
    },
    {
      "cell_type": "code",
      "execution_count": null,
      "metadata": {
        "id": "mYEfZRK1Y54m"
      },
      "outputs": [],
      "source": [
        "d #printing d"
      ]
    },
    {
      "cell_type": "code",
      "execution_count": null,
      "metadata": {
        "id": "1ZL0kahaY54m"
      },
      "outputs": [],
      "source": [
        "type(d) #check out the data type of d"
      ]
    },
    {
      "cell_type": "code",
      "execution_count": null,
      "metadata": {
        "id": "OsK7Cs2ZY54m"
      },
      "outputs": [],
      "source": [
        "my_favourite_dog = \"Lassie\""
      ]
    },
    {
      "cell_type": "code",
      "execution_count": null,
      "metadata": {
        "id": "jcH625I_Y54m"
      },
      "outputs": [],
      "source": [
        "my_favourite_dog"
      ]
    },
    {
      "cell_type": "code",
      "execution_count": null,
      "metadata": {
        "id": "nVouJaBKY54n"
      },
      "outputs": [],
      "source": [
        "#\"Dog\" = \"Spike\" #string object cannot serve as variable"
      ]
    },
    {
      "cell_type": "code",
      "execution_count": null,
      "metadata": {
        "id": "UezAwnThY54q"
      },
      "outputs": [],
      "source": [
        "#5 = \"Spike\" #integer/float object cannot serve as variable"
      ]
    },
    {
      "cell_type": "code",
      "execution_count": null,
      "metadata": {
        "id": "TmiKDld3Y54r"
      },
      "outputs": [],
      "source": [
        "d5 = \"Spike\""
      ]
    },
    {
      "cell_type": "code",
      "execution_count": null,
      "metadata": {
        "id": "Y0f4CjfNY54r"
      },
      "outputs": [],
      "source": [
        "d5"
      ]
    },
    {
      "cell_type": "code",
      "execution_count": null,
      "metadata": {
        "id": "rmMjF0OvY54r"
      },
      "outputs": [],
      "source": [
        "e = 10 #int object 10 assigned to e / reference from e to 10\n",
        "e"
      ]
    },
    {
      "cell_type": "code",
      "execution_count": null,
      "metadata": {
        "id": "8EQg07pEY54r"
      },
      "outputs": [],
      "source": [
        "f=e #same int object 10 also assigned to f / reference from f to 10\n",
        "f"
      ]
    },
    {
      "cell_type": "code",
      "execution_count": null,
      "metadata": {
        "id": "ra-dPWxVY54r"
      },
      "outputs": [],
      "source": [
        "e = 15 #new reference from e to 15, does not change reference of f\n",
        "e"
      ]
    },
    {
      "cell_type": "code",
      "execution_count": null,
      "metadata": {
        "id": "Rk1zRZGyY54r"
      },
      "outputs": [],
      "source": [
        "f"
      ]
    },
    {
      "cell_type": "markdown",
      "metadata": {
        "id": "idx9ha-cY54r"
      },
      "source": [
        "## 3. Integers and Floats"
      ]
    },
    {
      "cell_type": "code",
      "execution_count": null,
      "metadata": {
        "id": "burQ-Bi1Y54r"
      },
      "outputs": [],
      "source": [
        "a = 5 #assign integer object 5 to a"
      ]
    },
    {
      "cell_type": "code",
      "execution_count": null,
      "metadata": {
        "id": "-ylxuOW_Y54s"
      },
      "outputs": [],
      "source": [
        "b = 2 #assign integer object 2 to b"
      ]
    },
    {
      "cell_type": "code",
      "execution_count": null,
      "metadata": {
        "scrolled": true,
        "id": "wdN6dJw0Y54s"
      },
      "outputs": [],
      "source": [
        "print(type(a), type(b)) #check data type of a and b"
      ]
    },
    {
      "cell_type": "code",
      "execution_count": null,
      "metadata": {
        "id": "Vxi4BcQLY54s"
      },
      "outputs": [],
      "source": [
        "a+b #addition"
      ]
    },
    {
      "cell_type": "code",
      "execution_count": null,
      "metadata": {
        "id": "9Rq6SMTFY54s"
      },
      "outputs": [],
      "source": [
        "b+a #addition"
      ]
    },
    {
      "cell_type": "code",
      "execution_count": null,
      "metadata": {
        "id": "cbEn9z6YY54s"
      },
      "outputs": [],
      "source": [
        "a-b #substraction"
      ]
    },
    {
      "cell_type": "code",
      "execution_count": null,
      "metadata": {
        "id": "wg51b-pZY54s"
      },
      "outputs": [],
      "source": [
        "b-a #substraction (negative numbers)"
      ]
    },
    {
      "cell_type": "code",
      "execution_count": null,
      "metadata": {
        "id": "kfi-J4jaY54s"
      },
      "outputs": [],
      "source": [
        "a*b #multiplication"
      ]
    },
    {
      "cell_type": "code",
      "execution_count": null,
      "metadata": {
        "id": "ajtfE95_Y54t"
      },
      "outputs": [],
      "source": [
        "c = a/b #division, creating float object\n",
        "c"
      ]
    },
    {
      "cell_type": "code",
      "execution_count": null,
      "metadata": {
        "id": "Qmy17O7FY54t"
      },
      "outputs": [],
      "source": [
        "type(c)"
      ]
    },
    {
      "cell_type": "code",
      "execution_count": null,
      "metadata": {
        "id": "uYfKYIcQY54t"
      },
      "outputs": [],
      "source": [
        "c.as_integer_ratio() #expressing float as ratio of integers -> calling method as_integer_ratio() on float object c"
      ]
    },
    {
      "cell_type": "code",
      "execution_count": null,
      "metadata": {
        "id": "5NuT-PicY54t"
      },
      "outputs": [],
      "source": [
        "c.is_integer()"
      ]
    },
    {
      "cell_type": "code",
      "execution_count": null,
      "metadata": {
        "id": "UbbDCeNjY54t"
      },
      "outputs": [],
      "source": [
        "b.denominator"
      ]
    },
    {
      "cell_type": "code",
      "execution_count": null,
      "metadata": {
        "id": "SJK7c4MNY54t"
      },
      "outputs": [],
      "source": [
        "b.numerator"
      ]
    },
    {
      "cell_type": "code",
      "execution_count": null,
      "metadata": {
        "id": "DNW97P-nY54t"
      },
      "outputs": [],
      "source": [
        "d = 11/3\n",
        "d"
      ]
    },
    {
      "cell_type": "code",
      "execution_count": null,
      "metadata": {
        "id": "-Jpgl3KzY54t"
      },
      "outputs": [],
      "source": [
        "d.as_integer_ratio()"
      ]
    },
    {
      "cell_type": "code",
      "execution_count": null,
      "metadata": {
        "id": "uWYJQf0mY54t"
      },
      "outputs": [],
      "source": [
        "round(d,2) #rounding to a given precision in decimal digits"
      ]
    },
    {
      "cell_type": "code",
      "execution_count": null,
      "metadata": {
        "id": "dwZhaMGCY54u"
      },
      "outputs": [],
      "source": [
        "int(d) #transfrom float to integer"
      ]
    },
    {
      "cell_type": "code",
      "execution_count": null,
      "metadata": {
        "id": "uiPMCcTRY54u"
      },
      "outputs": [],
      "source": [
        "float(a) #transform integer to float"
      ]
    },
    {
      "cell_type": "code",
      "execution_count": null,
      "metadata": {
        "id": "ky-QoSLUY54u"
      },
      "outputs": [],
      "source": [
        "type(5.) #transform integer to float"
      ]
    },
    {
      "cell_type": "code",
      "execution_count": null,
      "metadata": {
        "id": "f7cJCByEY54u"
      },
      "outputs": [],
      "source": [
        "\"5\" #transform integer to string"
      ]
    },
    {
      "cell_type": "code",
      "execution_count": null,
      "metadata": {
        "scrolled": true,
        "id": "nkRbKO8TY54u"
      },
      "outputs": [],
      "source": [
        "type(\"5\")"
      ]
    },
    {
      "cell_type": "code",
      "execution_count": null,
      "metadata": {
        "scrolled": true,
        "id": "8e01NWfrY54u"
      },
      "outputs": [],
      "source": [
        "type(str(5)) #transform integer to string"
      ]
    },
    {
      "cell_type": "markdown",
      "metadata": {
        "id": "snPpjXvsY54u"
      },
      "source": [
        "## 4. Strings"
      ]
    },
    {
      "cell_type": "code",
      "execution_count": null,
      "metadata": {
        "id": "9FTGIxHoY54u"
      },
      "outputs": [],
      "source": [
        "c = \"5\" #assign string object \"5\" to variable c\n",
        "type(c)"
      ]
    },
    {
      "cell_type": "code",
      "execution_count": null,
      "metadata": {
        "id": "9XtA7VVRY54v"
      },
      "outputs": [],
      "source": [
        "5+2"
      ]
    },
    {
      "cell_type": "code",
      "execution_count": null,
      "metadata": {
        "id": "As7lXnl2Y54v"
      },
      "outputs": [],
      "source": [
        "#c+2 #cannot add string and integer"
      ]
    },
    {
      "cell_type": "code",
      "execution_count": null,
      "metadata": {
        "id": "eK1HnacEY54v"
      },
      "outputs": [],
      "source": [
        "d = \"Dog\" #assign string object \"Dog\" to variable d\n",
        "d"
      ]
    },
    {
      "cell_type": "code",
      "execution_count": null,
      "metadata": {
        "id": "dTC3ECt9Y54v"
      },
      "outputs": [],
      "source": [
        "e = \"Cat\" #assign string object\"Cat\" to variable e\n",
        "e"
      ]
    },
    {
      "cell_type": "code",
      "execution_count": null,
      "metadata": {
        "id": "W4DOSSz0Y54v"
      },
      "outputs": [],
      "source": [
        "print(type(d), type(e)) #check data type of d and e"
      ]
    },
    {
      "cell_type": "code",
      "execution_count": null,
      "metadata": {
        "id": "BV0dJblZY54w"
      },
      "outputs": [],
      "source": [
        "d+e #addition of strings is defined (concatenation)"
      ]
    },
    {
      "cell_type": "code",
      "execution_count": null,
      "metadata": {
        "id": "Ur9V21VvY54w"
      },
      "outputs": [],
      "source": [
        "e+d"
      ]
    },
    {
      "cell_type": "code",
      "execution_count": null,
      "metadata": {
        "id": "2h9W6uj9Y54w"
      },
      "outputs": [],
      "source": [
        "d-e #substraction of strings not defined"
      ]
    },
    {
      "cell_type": "code",
      "execution_count": null,
      "metadata": {
        "scrolled": true,
        "id": "PzKF_WOUY54w"
      },
      "outputs": [],
      "source": [
        "d*e  #multiplication of strings not defined"
      ]
    },
    {
      "cell_type": "code",
      "execution_count": null,
      "metadata": {
        "scrolled": false,
        "id": "HXtSZWg0Y54w"
      },
      "outputs": [],
      "source": [
        "#d+5 #cannot add string to integer/float"
      ]
    },
    {
      "cell_type": "code",
      "execution_count": null,
      "metadata": {
        "id": "F7YBLjUoY54x"
      },
      "outputs": [],
      "source": [
        "d+str(5) #addition of two strings"
      ]
    },
    {
      "cell_type": "code",
      "execution_count": null,
      "metadata": {
        "id": "Ifk0zBM9Y54x"
      },
      "outputs": [],
      "source": [
        "str(5)+d #addition of two strings"
      ]
    },
    {
      "cell_type": "code",
      "execution_count": null,
      "metadata": {
        "id": "TMlStnrWY54x"
      },
      "outputs": [],
      "source": [
        "d*5 #multiplication of string"
      ]
    },
    {
      "cell_type": "code",
      "execution_count": null,
      "metadata": {
        "id": "zeYxs0xGY54x"
      },
      "outputs": [],
      "source": [
        "5*d #multiplication of string"
      ]
    },
    {
      "cell_type": "code",
      "execution_count": null,
      "metadata": {
        "id": "BxWN1NUzY54x"
      },
      "outputs": [],
      "source": [
        "#d*str(5) #multiplication of strings not defined"
      ]
    },
    {
      "cell_type": "code",
      "execution_count": null,
      "metadata": {
        "id": "m-c6n17_Y54x"
      },
      "outputs": [],
      "source": [
        "statement = \"I \"+\"have \"+\"5 \"+\"dogs.\" #concatenate many strings to one string\n",
        "statement"
      ]
    },
    {
      "cell_type": "code",
      "execution_count": null,
      "metadata": {
        "id": "4BkzFgrUY54x"
      },
      "outputs": [],
      "source": [
        "animal = \"Cats\" #assign string to variable\n",
        "amount = 8      #assign integer to variable"
      ]
    },
    {
      "cell_type": "code",
      "execution_count": null,
      "metadata": {
        "id": "J_GWiUYqY54y"
      },
      "outputs": [],
      "source": [
        "print(\"I have {} {}.\".format(amount,animal)) #string formatting"
      ]
    },
    {
      "cell_type": "code",
      "execution_count": null,
      "metadata": {
        "id": "ib9atLqiY54y"
      },
      "outputs": [],
      "source": [
        "del(d) #deleting string\n",
        "d"
      ]
    },
    {
      "cell_type": "code",
      "execution_count": null,
      "metadata": {
        "id": "aQYxA3S8Y54y"
      },
      "outputs": [],
      "source": [
        "d = \"Dog\"\n",
        "d"
      ]
    },
    {
      "cell_type": "code",
      "execution_count": null,
      "metadata": {
        "id": "mqWoDgjRY54y"
      },
      "outputs": [],
      "source": [
        "len(d) #return number of items in string -> built in function len()"
      ]
    },
    {
      "cell_type": "code",
      "execution_count": null,
      "metadata": {
        "id": "7T6MHLqoY54y"
      },
      "outputs": [],
      "source": [
        "len(statement) #return number of items in string"
      ]
    },
    {
      "cell_type": "code",
      "execution_count": null,
      "metadata": {
        "id": "qFkFdAB3Y54y"
      },
      "outputs": [],
      "source": [
        "#len(23) #function len() not defined for integer/float"
      ]
    },
    {
      "cell_type": "code",
      "execution_count": null,
      "metadata": {
        "id": "-QuiXtxNY54y"
      },
      "outputs": [],
      "source": [
        "statement = statement.upper()\n",
        "statement#convert all items to uppercase -> built in method str.upper()"
      ]
    },
    {
      "cell_type": "code",
      "execution_count": null,
      "metadata": {
        "id": "4e3fQGYoY54y"
      },
      "outputs": [],
      "source": [
        "statement = statement.lower() #convert all items to lowercase -> built in method str.lower()\n",
        "statement"
      ]
    },
    {
      "cell_type": "code",
      "execution_count": null,
      "metadata": {
        "id": "3Ax2HWKdY54y"
      },
      "outputs": [],
      "source": [
        "statement = statement.capitalize() #capitalize first character\n",
        "statement"
      ]
    },
    {
      "cell_type": "code",
      "execution_count": null,
      "metadata": {
        "id": "F8gYGDDtY54z"
      },
      "outputs": [],
      "source": [
        "l = list(statement) #transforming string into list with function list() -> seperating all elements\n",
        "l"
      ]
    },
    {
      "cell_type": "code",
      "execution_count": null,
      "metadata": {
        "id": "4-CZf2iGY54z"
      },
      "outputs": [],
      "source": [
        "type(l) #check data type"
      ]
    },
    {
      "cell_type": "markdown",
      "metadata": {
        "id": "pdf9uLczY54z"
      },
      "source": [
        "## 5 List (Part 1)"
      ]
    },
    {
      "cell_type": "code",
      "execution_count": null,
      "metadata": {
        "id": "-serTrSAY54z"
      },
      "outputs": [],
      "source": [
        "l = [1, 2, 3, 4] #creating a list with square brackets containing integers\n",
        "l"
      ]
    },
    {
      "cell_type": "code",
      "execution_count": null,
      "metadata": {
        "id": "X0hQhvXsY54z"
      },
      "outputs": [],
      "source": [
        "type(l) #check data type"
      ]
    },
    {
      "cell_type": "code",
      "execution_count": null,
      "metadata": {
        "id": "n-vF3__AY54z"
      },
      "outputs": [],
      "source": [
        "m = [1.5, 2.4, 3.7] #creating a list with floats\n",
        "m"
      ]
    },
    {
      "cell_type": "code",
      "execution_count": null,
      "metadata": {
        "id": "i-rCZxhKY540"
      },
      "outputs": [],
      "source": [
        "n = [\"Dog\", \"Cat\", \"Mouse\"]  #creating a list with strings\n",
        "n"
      ]
    },
    {
      "cell_type": "code",
      "execution_count": null,
      "metadata": {
        "id": "ssAenfmDY540"
      },
      "outputs": [],
      "source": [
        "o = [1, 2.4, \"Dog\"] #creating a list with different data types / objects\n",
        "o"
      ]
    },
    {
      "cell_type": "code",
      "execution_count": null,
      "metadata": {
        "id": "1WaF31D9Y540"
      },
      "outputs": [],
      "source": [
        "len(l) #counting amount of elements in list"
      ]
    },
    {
      "cell_type": "code",
      "execution_count": null,
      "metadata": {
        "id": "OKU33AJ3Y540"
      },
      "outputs": [],
      "source": [
        "p = list(\"This is a string!\") #transforming string to list, everthing can be a list element\n",
        "p"
      ]
    },
    {
      "cell_type": "code",
      "execution_count": null,
      "metadata": {
        "id": "abG-knGYY540"
      },
      "outputs": [],
      "source": [
        "type(p)  #check data type"
      ]
    },
    {
      "cell_type": "code",
      "execution_count": null,
      "metadata": {
        "id": "8ODVjDTBY540"
      },
      "outputs": [],
      "source": [
        "len(p) #counting amount of elements in list"
      ]
    },
    {
      "cell_type": "code",
      "execution_count": null,
      "metadata": {
        "id": "n6R-uG8ZY541"
      },
      "outputs": [],
      "source": [
        "sum(l) #sum of numeric values in list"
      ]
    },
    {
      "cell_type": "code",
      "execution_count": null,
      "metadata": {
        "id": "8L6QlhjdY541"
      },
      "outputs": [],
      "source": [
        "sum(m)  #sum of numeric values in list"
      ]
    },
    {
      "cell_type": "code",
      "execution_count": null,
      "metadata": {
        "id": "g84sVWvaY541"
      },
      "outputs": [],
      "source": [
        "#sum(n) #does not work with str objects"
      ]
    },
    {
      "cell_type": "code",
      "execution_count": null,
      "metadata": {
        "id": "xp_qI_eNY541"
      },
      "outputs": [],
      "source": [
        "l"
      ]
    },
    {
      "cell_type": "code",
      "execution_count": null,
      "metadata": {
        "id": "O5jNNn2oY541"
      },
      "outputs": [],
      "source": [
        "l.append(5) #add another objects to the end -> built in method list.append()\n",
        "l"
      ]
    },
    {
      "cell_type": "code",
      "execution_count": null,
      "metadata": {
        "id": "RfkAt8JjY542"
      },
      "outputs": [],
      "source": [
        "l.count(5) #number of occurences of element -> built in method list.count()"
      ]
    },
    {
      "cell_type": "code",
      "execution_count": null,
      "metadata": {
        "id": "veDxe63EY542"
      },
      "outputs": [],
      "source": [
        "l.remove(5) #remove first occurence of element -> built in method list.remove()\n",
        "l"
      ]
    },
    {
      "cell_type": "code",
      "execution_count": null,
      "metadata": {
        "id": "XGZw0L52Y542"
      },
      "outputs": [],
      "source": [
        "l.count(5)"
      ]
    },
    {
      "cell_type": "code",
      "execution_count": null,
      "metadata": {
        "id": "w4KbOQpdY542"
      },
      "outputs": [],
      "source": [
        "l.reverse() #reverse sequence of elements  -> built in method list.reverse()\n",
        "l"
      ]
    },
    {
      "cell_type": "code",
      "execution_count": null,
      "metadata": {
        "id": "GGRG1zpMY542"
      },
      "outputs": [],
      "source": [
        "l.sort(reverse = False) #sorting all elements  -> built in method list.sort()\n",
        "l"
      ]
    },
    {
      "cell_type": "code",
      "execution_count": null,
      "metadata": {
        "id": "AuGFOOCdY543"
      },
      "outputs": [],
      "source": [
        "l + [6,7,8] #adding / concatenating two lists"
      ]
    },
    {
      "cell_type": "code",
      "execution_count": null,
      "metadata": {
        "id": "pi496YZpY543"
      },
      "outputs": [],
      "source": [
        "#l - [5] #substraction of lists not defined"
      ]
    },
    {
      "cell_type": "code",
      "execution_count": null,
      "metadata": {
        "id": "ieQ13nztY543"
      },
      "outputs": [],
      "source": [
        "l"
      ]
    },
    {
      "cell_type": "code",
      "execution_count": null,
      "metadata": {
        "id": "0d43D4D1Y543"
      },
      "outputs": [],
      "source": [
        "l*2 #concatenates two copies / no element-wise multiplication!"
      ]
    },
    {
      "cell_type": "code",
      "execution_count": null,
      "metadata": {
        "id": "YIyOFgjBY543"
      },
      "outputs": [],
      "source": [
        "#l/2 #not defined"
      ]
    },
    {
      "cell_type": "markdown",
      "metadata": {
        "id": "i6jXiLsRY543"
      },
      "source": [
        "## 6. List (Part 2)"
      ]
    },
    {
      "cell_type": "code",
      "execution_count": null,
      "metadata": {
        "id": "d9Vr2MrAY543"
      },
      "outputs": [],
      "source": [
        "l = [1,2,3,4,5]"
      ]
    },
    {
      "cell_type": "code",
      "execution_count": null,
      "metadata": {
        "id": "rhOcdZf6Y543"
      },
      "outputs": [],
      "source": [
        "l[1] #getting the second list element at index position 1 (zero-based indexing!)"
      ]
    },
    {
      "cell_type": "code",
      "execution_count": null,
      "metadata": {
        "id": "68rcIILcY544"
      },
      "outputs": [],
      "source": [
        "l[0] #getting the first list element at index position 0 !"
      ]
    },
    {
      "cell_type": "code",
      "execution_count": null,
      "metadata": {
        "id": "hB32jvtiY544"
      },
      "outputs": [],
      "source": [
        "l[4] #getting the fifth list element at index position 4"
      ]
    },
    {
      "cell_type": "code",
      "execution_count": null,
      "metadata": {
        "id": "8Zk6mMZDY544"
      },
      "outputs": [],
      "source": [
        "l[-1] #getting the last list element at index position -1"
      ]
    },
    {
      "cell_type": "code",
      "execution_count": null,
      "metadata": {
        "id": "eIdi8vBYY544"
      },
      "outputs": [],
      "source": [
        "l[-2] #getting the second last list element at index position -2"
      ]
    },
    {
      "cell_type": "code",
      "execution_count": null,
      "metadata": {
        "id": "2YJmX5eGY544"
      },
      "outputs": [],
      "source": [
        "l[-5] #getting the fifth last list element at index position -5"
      ]
    },
    {
      "cell_type": "code",
      "execution_count": null,
      "metadata": {
        "id": "a1kCtvbCY544"
      },
      "outputs": [],
      "source": [
        "l.index(5) #getting the index position of the first occurence of element 5"
      ]
    },
    {
      "cell_type": "code",
      "execution_count": null,
      "metadata": {
        "id": "SzKv3sviY544"
      },
      "outputs": [],
      "source": [
        "l[0] = 100 #change element in list (lists are mutable)\n",
        "l"
      ]
    },
    {
      "cell_type": "code",
      "execution_count": null,
      "metadata": {
        "id": "Z5kT5_cdY544"
      },
      "outputs": [],
      "source": [
        "l[-1] = 101\n",
        "l"
      ]
    },
    {
      "cell_type": "code",
      "execution_count": null,
      "metadata": {
        "id": "LFNYG7rTY544"
      },
      "outputs": [],
      "source": [
        "l[1:4] #slice from second element at index position 1 (incl.) till fifth element at index position 4 (excl.)"
      ]
    },
    {
      "cell_type": "code",
      "execution_count": null,
      "metadata": {
        "id": "ECP3K_yqY545"
      },
      "outputs": [],
      "source": [
        "l[1:5] #from second (incl.) till sixth (excl.)"
      ]
    },
    {
      "cell_type": "code",
      "execution_count": null,
      "metadata": {
        "id": "1R2r7tIeY545"
      },
      "outputs": [],
      "source": [
        "l[1:] #from second (incl.) till last (incl.)"
      ]
    },
    {
      "cell_type": "code",
      "execution_count": null,
      "metadata": {
        "id": "tuvI-51nY545"
      },
      "outputs": [],
      "source": [
        "l[0:3]  #from first (incl.) till fourth (excl.)"
      ]
    },
    {
      "cell_type": "code",
      "execution_count": null,
      "metadata": {
        "id": "HKsJdfJ9Y545"
      },
      "outputs": [],
      "source": [
        "l[:3]  #from first (incl.) till fourth (excl.)"
      ]
    },
    {
      "cell_type": "code",
      "execution_count": null,
      "metadata": {
        "id": "GN6oNTffY545"
      },
      "outputs": [],
      "source": [
        "l[1:3] #second and third (incl.)"
      ]
    },
    {
      "cell_type": "code",
      "execution_count": null,
      "metadata": {
        "id": "Y5gxaIvTY545"
      },
      "outputs": [],
      "source": [
        "l[:] #all"
      ]
    },
    {
      "cell_type": "code",
      "execution_count": null,
      "metadata": {
        "id": "YmxfEjZ0Y545"
      },
      "outputs": [],
      "source": [
        "l = [1,2,3,4,5,6,7,8,9,10]"
      ]
    },
    {
      "cell_type": "code",
      "execution_count": null,
      "metadata": {
        "id": "zsWPc6b7Y545"
      },
      "outputs": [],
      "source": [
        "l"
      ]
    },
    {
      "cell_type": "code",
      "execution_count": null,
      "metadata": {
        "id": "W-2-7mwnY545"
      },
      "outputs": [],
      "source": [
        "l[::2] #every second element beginning from first (incl.)"
      ]
    },
    {
      "cell_type": "code",
      "execution_count": null,
      "metadata": {
        "id": "M2iNPoMXY546"
      },
      "outputs": [],
      "source": [
        "l[::3] #every third element beginning from first (incl.)"
      ]
    },
    {
      "cell_type": "code",
      "execution_count": null,
      "metadata": {
        "id": "i7LpfU6fY546"
      },
      "outputs": [],
      "source": [
        "l[1::2] #every second element beginning from second (incl.)"
      ]
    },
    {
      "cell_type": "code",
      "execution_count": null,
      "metadata": {
        "id": "XTY9jDV7Y546"
      },
      "outputs": [],
      "source": [
        "l"
      ]
    },
    {
      "cell_type": "code",
      "execution_count": null,
      "metadata": {
        "id": "ckiON5-aY546"
      },
      "outputs": [],
      "source": [
        "l[4:7] = [50, 51, 52] #assigning many new values to many elements\n",
        "l"
      ]
    },
    {
      "cell_type": "code",
      "execution_count": null,
      "metadata": {
        "id": "1UTJL2HiY546"
      },
      "outputs": [],
      "source": [
        "l[4:7] = 50 #assigning one new value to many elements (broadcasting) -> error"
      ]
    },
    {
      "cell_type": "code",
      "execution_count": null,
      "metadata": {
        "id": "3y5mOF63Y546"
      },
      "outputs": [],
      "source": [
        "l[4] = 50 #manual \"broadcasting\"\n",
        "l[5] = 50\n",
        "l[6] = 50\n",
        "l"
      ]
    },
    {
      "cell_type": "code",
      "execution_count": null,
      "metadata": {
        "id": "gRTAJ5IhY546"
      },
      "outputs": [],
      "source": [
        "del l[0] #delete element at certain index position\n",
        "l"
      ]
    },
    {
      "cell_type": "code",
      "execution_count": null,
      "metadata": {
        "id": "jv6qCCglY546"
      },
      "outputs": [],
      "source": [
        "players = [[\"Andy\", 1.86, 82], [\"Ben\", 1.78, 65], [\"Tom\", 1.92, 101], [\"Mike\",1.82, 85]] #creating nested list\n",
        "players"
      ]
    },
    {
      "cell_type": "code",
      "execution_count": null,
      "metadata": {
        "id": "nY034YiOY546"
      },
      "outputs": [],
      "source": [
        "print(type(players),len(players), sep = '\\n') #list containing 4 list objects"
      ]
    },
    {
      "cell_type": "code",
      "execution_count": null,
      "metadata": {
        "id": "kkkr-JnwY547"
      },
      "outputs": [],
      "source": [
        "players[0] #first nested list at index position 0"
      ]
    },
    {
      "cell_type": "code",
      "execution_count": null,
      "metadata": {
        "id": "ytWXs9zVY547"
      },
      "outputs": [],
      "source": [
        "players[-1] #last nested list at index position -1"
      ]
    },
    {
      "cell_type": "code",
      "execution_count": null,
      "metadata": {
        "id": "X4rDEiCxY547"
      },
      "outputs": [],
      "source": [
        "players[0][1] #height of first player"
      ]
    },
    {
      "cell_type": "code",
      "execution_count": null,
      "metadata": {
        "id": "NbvfCH1yY547"
      },
      "outputs": [],
      "source": [
        "names = [players[0][0],players[1][0],players[2][0],players[3][0]] #creating a list of all names manually\n",
        "names"
      ]
    },
    {
      "cell_type": "code",
      "execution_count": null,
      "metadata": {
        "id": "TdtV2w61Y547"
      },
      "outputs": [],
      "source": [
        "x = [1,2,3,4] #assigning list to variable x"
      ]
    },
    {
      "cell_type": "code",
      "execution_count": null,
      "metadata": {
        "id": "wV_QW5JgY547"
      },
      "outputs": [],
      "source": [
        "y = x #assigning same list to variable y\n",
        "y"
      ]
    },
    {
      "cell_type": "code",
      "execution_count": null,
      "metadata": {
        "id": "1Njc77uIY547"
      },
      "outputs": [],
      "source": [
        "x[0] = 100 #changing first element of x"
      ]
    },
    {
      "cell_type": "code",
      "execution_count": null,
      "metadata": {
        "id": "OnSAMe6FY547"
      },
      "outputs": [],
      "source": [
        "x"
      ]
    },
    {
      "cell_type": "code",
      "execution_count": null,
      "metadata": {
        "id": "ERU4-YXQY547"
      },
      "outputs": [],
      "source": [
        "y #y has also changed as it references to same list object as x"
      ]
    },
    {
      "cell_type": "code",
      "execution_count": null,
      "metadata": {
        "id": "PDoVMtA7Y547"
      },
      "outputs": [],
      "source": [
        "d = \"Dog\" #string \"Dog\" contains multiple elements (\"D\", \"o\", \"g\")\n",
        "d"
      ]
    },
    {
      "cell_type": "code",
      "execution_count": null,
      "metadata": {
        "id": "cgUiHHtFY548"
      },
      "outputs": [],
      "source": [
        "d[0] #first element of string"
      ]
    },
    {
      "cell_type": "code",
      "execution_count": null,
      "metadata": {
        "id": "AxqhJuEMY548"
      },
      "outputs": [],
      "source": [
        "d[-1] #last element of string"
      ]
    },
    {
      "cell_type": "code",
      "execution_count": null,
      "metadata": {
        "id": "NBJ2S2q2Y548"
      },
      "outputs": [],
      "source": [
        "d[1] = \"a\" #string object is immutable!!!"
      ]
    },
    {
      "cell_type": "markdown",
      "metadata": {
        "id": "eomgGfPkY548"
      },
      "source": [
        "## 7. Tuple"
      ]
    },
    {
      "cell_type": "code",
      "execution_count": null,
      "metadata": {
        "id": "hXCar95gY548"
      },
      "outputs": [],
      "source": [
        "a = (1,2,3) #creating a tuple with parantheses\n",
        "a"
      ]
    },
    {
      "cell_type": "code",
      "execution_count": null,
      "metadata": {
        "id": "94G3QuNZY548"
      },
      "outputs": [],
      "source": [
        "b = 1,2,3 #creating a tuple without parantheses\n",
        "b"
      ]
    },
    {
      "cell_type": "code",
      "execution_count": null,
      "metadata": {
        "id": "BEmhWE7uY548"
      },
      "outputs": [],
      "source": [
        "c = (1, 2.5, \"Dog\") #tuple with different data types\n",
        "c"
      ]
    },
    {
      "cell_type": "code",
      "execution_count": null,
      "metadata": {
        "id": "EcTetBwMY549"
      },
      "outputs": [],
      "source": [
        "a[1] #indexing works"
      ]
    },
    {
      "cell_type": "code",
      "execution_count": null,
      "metadata": {
        "id": "UxCO_TYAY549"
      },
      "outputs": [],
      "source": [
        "c[1:] #slicing works"
      ]
    },
    {
      "cell_type": "code",
      "execution_count": null,
      "metadata": {
        "id": "fCUpSz7EY549"
      },
      "outputs": [],
      "source": [
        "a * 2 #same behavior as list"
      ]
    },
    {
      "cell_type": "code",
      "execution_count": null,
      "metadata": {
        "id": "xaCGwE28Y549"
      },
      "outputs": [],
      "source": [
        "a +(4,5,6) #same behavior as list"
      ]
    },
    {
      "cell_type": "code",
      "execution_count": null,
      "metadata": {
        "id": "AiPMzD3CY549"
      },
      "outputs": [],
      "source": [
        "a[0] = 100 #tuple is immutable!"
      ]
    },
    {
      "cell_type": "code",
      "execution_count": null,
      "metadata": {
        "id": "P-YFgFHVY549"
      },
      "outputs": [],
      "source": [
        "l = [1,2,3,4,5]"
      ]
    },
    {
      "cell_type": "code",
      "execution_count": null,
      "metadata": {
        "id": "nprP0XnhY549"
      },
      "outputs": [],
      "source": [
        "enumerate(l) #enumerate object (\"stores\" index, value pairs of list l)"
      ]
    },
    {
      "cell_type": "code",
      "execution_count": null,
      "metadata": {
        "id": "YctA2xTAY549"
      },
      "outputs": [],
      "source": [
        "m = list(enumerate(l)) #return index,value pairs of list l as tuples\n",
        "m"
      ]
    },
    {
      "cell_type": "code",
      "execution_count": null,
      "metadata": {
        "id": "EgGVFzZLY549"
      },
      "outputs": [],
      "source": [
        "first_tuple = m[0] #first index, value tuple\n",
        "first_tuple"
      ]
    },
    {
      "cell_type": "code",
      "execution_count": null,
      "metadata": {
        "id": "AthZD0m7Y54-"
      },
      "outputs": [],
      "source": [
        "index, value = first_tuple #unpacking tuples\n",
        "print(index, value)"
      ]
    },
    {
      "cell_type": "code",
      "execution_count": null,
      "metadata": {
        "id": "ULJKmW0bY54-"
      },
      "outputs": [],
      "source": [
        "l"
      ]
    },
    {
      "cell_type": "code",
      "execution_count": null,
      "metadata": {
        "id": "_oSpLe7DY54-"
      },
      "outputs": [],
      "source": [
        "tuple(l) #transforming list into tuple"
      ]
    },
    {
      "cell_type": "markdown",
      "metadata": {
        "id": "g4qrkpHDY54-"
      },
      "source": [
        "## 8. Set"
      ]
    },
    {
      "cell_type": "code",
      "execution_count": null,
      "metadata": {
        "id": "584ozKODY54-"
      },
      "outputs": [],
      "source": [
        "l = [1,2,2,3,4,5,5,5,6,7,8,9,9,9,9] #creating list with duplicates\n",
        "l"
      ]
    },
    {
      "cell_type": "code",
      "execution_count": null,
      "metadata": {
        "id": "Uri1DI_PY54-"
      },
      "outputs": [],
      "source": [
        "s = set(l) #transforming list to set -> removing duplicates, collection of unique elements\n",
        "s"
      ]
    },
    {
      "cell_type": "code",
      "execution_count": null,
      "metadata": {
        "id": "ZQfBirt9Y54-"
      },
      "outputs": [],
      "source": [
        "type(s) #check data type"
      ]
    },
    {
      "cell_type": "code",
      "execution_count": null,
      "metadata": {
        "id": "DS8XR1QKY54-"
      },
      "outputs": [],
      "source": [
        "t = {11,12,13,13,14,15,15} #create set with {}"
      ]
    },
    {
      "cell_type": "code",
      "execution_count": null,
      "metadata": {
        "id": "ipek66mSY54-"
      },
      "outputs": [],
      "source": [
        "t #duplicates removed"
      ]
    },
    {
      "cell_type": "code",
      "execution_count": null,
      "metadata": {
        "id": "czHhKVR6Y54_"
      },
      "outputs": [],
      "source": [
        "len(t) #count number of unique elements"
      ]
    },
    {
      "cell_type": "code",
      "execution_count": null,
      "metadata": {
        "id": "yRz7NBK4Y54_"
      },
      "outputs": [],
      "source": [
        "t.add(6) #add another element"
      ]
    },
    {
      "cell_type": "code",
      "execution_count": null,
      "metadata": {
        "id": "lBfJ5Dh2Y54_"
      },
      "outputs": [],
      "source": [
        "t"
      ]
    },
    {
      "cell_type": "code",
      "execution_count": null,
      "metadata": {
        "id": "5xCzPW5gY54_"
      },
      "outputs": [],
      "source": [
        "t.remove(12) #remove element"
      ]
    },
    {
      "cell_type": "code",
      "execution_count": null,
      "metadata": {
        "id": "J6wJOC0uY54_"
      },
      "outputs": [],
      "source": [
        "t"
      ]
    },
    {
      "cell_type": "code",
      "execution_count": null,
      "metadata": {
        "id": "Yp8gY6j2Y54_"
      },
      "outputs": [],
      "source": [
        "t[0] #indexing/slicing not supported!"
      ]
    },
    {
      "cell_type": "code",
      "execution_count": null,
      "metadata": {
        "id": "wAuOf887Y54_"
      },
      "outputs": [],
      "source": [
        "u = {\"Dog\", \"Cat\", \"Mouse\", \"Dog\", \"Elephant\"} #works with string objects as well\n",
        "u"
      ]
    },
    {
      "cell_type": "markdown",
      "metadata": {
        "id": "oCCKGnCZY54_"
      },
      "source": [
        "## 9. Operators and Booleans"
      ]
    },
    {
      "cell_type": "markdown",
      "metadata": {
        "id": "tE4Lw53vY55A"
      },
      "source": [
        "### Arithmetic Operators"
      ]
    },
    {
      "cell_type": "code",
      "execution_count": null,
      "metadata": {
        "id": "dbgceVxIY55A"
      },
      "outputs": [],
      "source": [
        "a = 5\n",
        "b = 2\n",
        "c = 7"
      ]
    },
    {
      "cell_type": "code",
      "execution_count": null,
      "metadata": {
        "id": "BEIYkWAtY55A"
      },
      "outputs": [],
      "source": [
        "a + b #addition"
      ]
    },
    {
      "cell_type": "code",
      "execution_count": null,
      "metadata": {
        "id": "hzCsDe3KY55A"
      },
      "outputs": [],
      "source": [
        "a - b #substraction"
      ]
    },
    {
      "cell_type": "code",
      "execution_count": null,
      "metadata": {
        "id": "_60QFjx1Y55A"
      },
      "outputs": [],
      "source": [
        "a * b #multiplication"
      ]
    },
    {
      "cell_type": "code",
      "execution_count": null,
      "metadata": {
        "id": "58VXU0xwY55B"
      },
      "outputs": [],
      "source": [
        "a / b #division"
      ]
    },
    {
      "cell_type": "code",
      "execution_count": null,
      "metadata": {
        "id": "bPqz1v8nY55B"
      },
      "outputs": [],
      "source": [
        "a // b #floor-divide"
      ]
    },
    {
      "cell_type": "code",
      "execution_count": null,
      "metadata": {
        "id": "jgNpxfP-Y55B"
      },
      "outputs": [],
      "source": [
        "a ** b  #exponentiation"
      ]
    },
    {
      "cell_type": "code",
      "execution_count": null,
      "metadata": {
        "id": "lq0nsrf7Y55B"
      },
      "outputs": [],
      "source": [
        "a % b #modulo"
      ]
    },
    {
      "cell_type": "markdown",
      "metadata": {
        "id": "5g43rICVY55B"
      },
      "source": [
        "### Comparison Operators"
      ]
    },
    {
      "cell_type": "code",
      "execution_count": null,
      "metadata": {
        "id": "XhAjHCXgY55B"
      },
      "outputs": [],
      "source": [
        "a = 5\n",
        "b = 2\n",
        "c = 7"
      ]
    },
    {
      "cell_type": "code",
      "execution_count": null,
      "metadata": {
        "id": "OezJzbbsY55B"
      },
      "outputs": [],
      "source": [
        "a == b #True if a equal b, no assignment!"
      ]
    },
    {
      "cell_type": "code",
      "execution_count": null,
      "metadata": {
        "id": "GVeYXFWtY55B"
      },
      "outputs": [],
      "source": [
        "a != b #True if a not equal b"
      ]
    },
    {
      "cell_type": "code",
      "execution_count": null,
      "metadata": {
        "id": "6J6yJHzfY55B"
      },
      "outputs": [],
      "source": [
        "a < b #True if a less than b"
      ]
    },
    {
      "cell_type": "code",
      "execution_count": null,
      "metadata": {
        "id": "_2FBS3-MY55C"
      },
      "outputs": [],
      "source": [
        "a > b #True if a greater b"
      ]
    },
    {
      "cell_type": "code",
      "execution_count": null,
      "metadata": {
        "id": "kFNkpYAnY55C"
      },
      "outputs": [],
      "source": [
        "a+b <= c #True if sum of a and b less or equal c"
      ]
    },
    {
      "cell_type": "markdown",
      "metadata": {
        "id": "pulzwAeHY55C"
      },
      "source": [
        "### Booleans"
      ]
    },
    {
      "cell_type": "code",
      "execution_count": null,
      "metadata": {
        "id": "WheYVYetY55C"
      },
      "outputs": [],
      "source": [
        "type(True) #data type bool"
      ]
    },
    {
      "cell_type": "code",
      "execution_count": null,
      "metadata": {
        "id": "KVAPs_z-Y55C"
      },
      "outputs": [],
      "source": [
        "int(True) #True stands numerically for 1"
      ]
    },
    {
      "cell_type": "code",
      "execution_count": null,
      "metadata": {
        "id": "WGbM6-p-Y55C"
      },
      "outputs": [],
      "source": [
        "int(False) #False stands numerically for 0"
      ]
    },
    {
      "cell_type": "code",
      "execution_count": null,
      "metadata": {
        "id": "Tk3eKrj-Y55C"
      },
      "outputs": [],
      "source": [
        "bool(1) #casting an int/float unequal 0 into boolean object gives True"
      ]
    },
    {
      "cell_type": "code",
      "execution_count": null,
      "metadata": {
        "id": "VLmZ0A-YY55C"
      },
      "outputs": [],
      "source": [
        "bool(5)  #casting an int/float unequal 0 into boolean object gives True"
      ]
    },
    {
      "cell_type": "code",
      "execution_count": null,
      "metadata": {
        "id": "6mV_PixeY55D"
      },
      "outputs": [],
      "source": [
        "bool(0) #casting 0 into boolean object gives False"
      ]
    },
    {
      "cell_type": "code",
      "execution_count": null,
      "metadata": {
        "id": "erbuzkQXY55D"
      },
      "outputs": [],
      "source": [
        "5 * True #True behaves like 1"
      ]
    },
    {
      "cell_type": "code",
      "execution_count": null,
      "metadata": {
        "id": "mjbYqDPtY55D"
      },
      "outputs": [],
      "source": [
        "5 + True #True behaves like 1"
      ]
    },
    {
      "cell_type": "code",
      "execution_count": null,
      "metadata": {
        "id": "g4kx4cZWY55D"
      },
      "outputs": [],
      "source": [
        "5 * False #False behaves like 0"
      ]
    },
    {
      "cell_type": "code",
      "execution_count": null,
      "metadata": {
        "id": "FhsN6XVFY55D"
      },
      "outputs": [],
      "source": [
        "d = (5==2) #boolean objects can be assigned to variables\n",
        "d"
      ]
    },
    {
      "cell_type": "code",
      "execution_count": null,
      "metadata": {
        "id": "0_Jh7NsYY55D"
      },
      "outputs": [],
      "source": [
        "5 * d"
      ]
    },
    {
      "cell_type": "code",
      "execution_count": null,
      "metadata": {
        "id": "Moyna53zY55E"
      },
      "outputs": [],
      "source": [
        "l = [1,2,\"Cat\", 1.5, True] #different data types can be stored in a list, also booleans"
      ]
    },
    {
      "cell_type": "code",
      "execution_count": null,
      "metadata": {
        "id": "5piFzSnRY55E"
      },
      "outputs": [],
      "source": [
        "l"
      ]
    },
    {
      "cell_type": "markdown",
      "metadata": {
        "id": "m6tsnWhPY55E"
      },
      "source": [
        "### Logical Operators (and or not)"
      ]
    },
    {
      "cell_type": "code",
      "execution_count": null,
      "metadata": {
        "id": "WZvlsUeKY55E"
      },
      "outputs": [],
      "source": [
        "True and True #Logical AND: True if all conditions are True"
      ]
    },
    {
      "cell_type": "code",
      "execution_count": null,
      "metadata": {
        "id": "hfH8jGAeY55E"
      },
      "outputs": [],
      "source": [
        "(5 > 2) and (7 > 2) #True if all conditions are True"
      ]
    },
    {
      "cell_type": "code",
      "execution_count": null,
      "metadata": {
        "id": "WUXHnSwiY55E"
      },
      "outputs": [],
      "source": [
        "True & True #& works same way in most cases"
      ]
    },
    {
      "cell_type": "code",
      "execution_count": null,
      "metadata": {
        "id": "0J9tNb3UY55E"
      },
      "outputs": [],
      "source": [
        "(5 > 2) & (7 > 2) # & works same way in most cases"
      ]
    },
    {
      "cell_type": "code",
      "execution_count": null,
      "metadata": {
        "id": "SyfS4Gu0Y55F"
      },
      "outputs": [],
      "source": [
        "True & False"
      ]
    },
    {
      "cell_type": "code",
      "execution_count": null,
      "metadata": {
        "id": "TEpuLM__Y55F"
      },
      "outputs": [],
      "source": [
        "(5 > 2) & (7 < 2)"
      ]
    },
    {
      "cell_type": "code",
      "execution_count": null,
      "metadata": {
        "id": "8zghw_QWY55F"
      },
      "outputs": [],
      "source": [
        "False & False"
      ]
    },
    {
      "cell_type": "code",
      "execution_count": null,
      "metadata": {
        "id": "0C4KzSBMY55F"
      },
      "outputs": [],
      "source": [
        "(5 < 2) & (7 < 2)"
      ]
    },
    {
      "cell_type": "code",
      "execution_count": null,
      "metadata": {
        "id": "RxDvpA03Y55G"
      },
      "outputs": [],
      "source": [
        "True or True #Logical OR: True if at least one condition is True"
      ]
    },
    {
      "cell_type": "code",
      "execution_count": null,
      "metadata": {
        "id": "NecpYA3_Y55G"
      },
      "outputs": [],
      "source": [
        "True | True # | works as well in most cases"
      ]
    },
    {
      "cell_type": "code",
      "execution_count": null,
      "metadata": {
        "id": "Q3TTSyGYY55H"
      },
      "outputs": [],
      "source": [
        "(5 > 2) | (7 > 2)"
      ]
    },
    {
      "cell_type": "code",
      "execution_count": null,
      "metadata": {
        "id": "Qr29D9e4Y55H"
      },
      "outputs": [],
      "source": [
        "True | False"
      ]
    },
    {
      "cell_type": "code",
      "execution_count": null,
      "metadata": {
        "id": "tOkVpZu5Y55H"
      },
      "outputs": [],
      "source": [
        "(5 > 2) | (7 < 2)"
      ]
    },
    {
      "cell_type": "code",
      "execution_count": null,
      "metadata": {
        "id": "uSYrqDZdY55I"
      },
      "outputs": [],
      "source": [
        "False | False"
      ]
    },
    {
      "cell_type": "code",
      "execution_count": null,
      "metadata": {
        "id": "Cd0CIB8NY55I"
      },
      "outputs": [],
      "source": [
        "not False #True if False"
      ]
    },
    {
      "cell_type": "code",
      "execution_count": null,
      "metadata": {
        "id": "mnDbALi7Y55I"
      },
      "outputs": [],
      "source": [
        "not True #False if True"
      ]
    },
    {
      "cell_type": "code",
      "execution_count": null,
      "metadata": {
        "id": "cY3m4v6UY55I"
      },
      "outputs": [],
      "source": [
        "not((not(5 > 2)) | (7 < 2))"
      ]
    },
    {
      "cell_type": "markdown",
      "metadata": {
        "id": "5VirrmjpY55I"
      },
      "source": [
        "## 10 Conditional Statements (if, elif, else, while)"
      ]
    },
    {
      "cell_type": "markdown",
      "metadata": {
        "id": "xYwIvYjqY55I"
      },
      "source": [
        "### if, elif, else"
      ]
    },
    {
      "cell_type": "code",
      "execution_count": null,
      "metadata": {
        "id": "7xYBtaTgY55I"
      },
      "outputs": [],
      "source": [
        "a = 5\n",
        "b = 5"
      ]
    },
    {
      "cell_type": "code",
      "execution_count": null,
      "metadata": {
        "id": "ejOSn9mmY55I"
      },
      "outputs": [],
      "source": [
        "if a < 10:\n",
        "    print(\"a is less than 10\")\n",
        "else:\n",
        "    print(\"a is not less than 10\")"
      ]
    },
    {
      "cell_type": "code",
      "execution_count": null,
      "metadata": {
        "id": "S-h-VZvdY55J"
      },
      "outputs": [],
      "source": [
        "if a > b: #check if conditional statment is True or False -> False\n",
        "    print(\"a is greater than b!\") #if conditional statment is True, do this:\n",
        "elif a < b: #if conditional statment is False, check if this new statement is True ->False\n",
        "    print(\"a is less than b!\") #if new conditional statment is True, do this:\n",
        "else: #for all other cases:\n",
        "    print(\"a is equal b!\") #do this!"
      ]
    },
    {
      "cell_type": "code",
      "execution_count": null,
      "metadata": {
        "id": "6SdDtSHmY55J"
      },
      "outputs": [],
      "source": [
        "Price = 1000\n",
        "discount_intervals = [50, 100, 200]\n",
        "discounts = [0, 0.1, 0.2, 0.25]"
      ]
    },
    {
      "cell_type": "code",
      "execution_count": null,
      "metadata": {
        "id": "mn3yKbzeY55J"
      },
      "outputs": [],
      "source": [
        "if Price < discount_intervals[0]: #if price less than 50:\n",
        "    Price = Price*(1-discounts[0]) #no discount\n",
        "elif Price < discount_intervals[1]: #if price between 50 and 100(excl.):\n",
        "    Price = Price*(1-discounts[1]) # 10% discount\n",
        "elif Price < discount_intervals[2]: #if price between 100 and 200 (excl.):\n",
        "    Price = Price*(1-discounts[2]) # 20% discount\n",
        "else: #if price greater or equal 200:\n",
        "    Price = Price*(1-discounts[3]) # 25% discount\n",
        "print(\"The after-discount price is {}!\".format(Price))"
      ]
    },
    {
      "cell_type": "markdown",
      "metadata": {
        "id": "eQDy7Y_kY55J"
      },
      "source": [
        "### while loop"
      ]
    },
    {
      "cell_type": "code",
      "execution_count": null,
      "metadata": {
        "id": "QstklW_XY55J"
      },
      "outputs": [],
      "source": [
        "a = 10"
      ]
    },
    {
      "cell_type": "code",
      "execution_count": null,
      "metadata": {
        "id": "wkAdRxmFY55K"
      },
      "outputs": [],
      "source": [
        "if a < 20: #check if conditional statement is True or False -> True\n",
        "    a += 1 #if conditional statement is True, do this\n",
        "    print(a) #and this"
      ]
    },
    {
      "cell_type": "code",
      "execution_count": null,
      "metadata": {
        "id": "ZMiABkvMY55K"
      },
      "outputs": [],
      "source": [
        "a = 10\n",
        "while a < 20: #check if conditional statement is True or False -> True\n",
        "    a += 1 #if conditional statement is True, do this\n",
        "    print(a) #and this, and repeat process"
      ]
    },
    {
      "cell_type": "code",
      "execution_count": null,
      "metadata": {
        "id": "RbCeingYY55K"
      },
      "outputs": [],
      "source": [
        "a"
      ]
    },
    {
      "cell_type": "code",
      "execution_count": null,
      "metadata": {
        "id": "t6CP6xVfY55K"
      },
      "outputs": [],
      "source": [
        "max_weight = 1000 #max weight allowed\n",
        "weight = 1100 #actual weight\n",
        "reduction_steps = 17 #reduced weight per step (e.g. weight of one container)\n",
        "\n",
        "while weight > max_weight: #check if freight is too high\n",
        "    print(\"The Freight with {} tons is too heavy!\".format(weight)) #if weight too high, give warning message...\n",
        "    weight -= reduction_steps #...and reduce weight by unloading one container -> Check again and again!\n",
        "print(\"The Freight with {} tons is OK!\".format(weight)) #give me the final weight that is acceptable"
      ]
    },
    {
      "cell_type": "markdown",
      "metadata": {
        "id": "1vbCYKyVY55K"
      },
      "source": [
        "## 11 For Loops"
      ]
    },
    {
      "cell_type": "code",
      "execution_count": null,
      "metadata": {
        "id": "CZI9R_fMY55K"
      },
      "outputs": [],
      "source": [
        "l = [1,2,3,4]"
      ]
    },
    {
      "cell_type": "code",
      "execution_count": null,
      "metadata": {
        "id": "ilR7UqnlY55L"
      },
      "outputs": [],
      "source": [
        "l*2 #no element-wise multiplication!"
      ]
    },
    {
      "cell_type": "code",
      "execution_count": null,
      "metadata": {
        "id": "6DRS3cBeY55L"
      },
      "outputs": [],
      "source": [
        "for element in l: #iteration over all elements in list l\n",
        "    print(element) #with each element, do the following:"
      ]
    },
    {
      "cell_type": "code",
      "execution_count": null,
      "metadata": {
        "id": "xS0V0NW1Y55L"
      },
      "outputs": [],
      "source": [
        "for i in l:\n",
        "    print(i*2) #no limitations on the actions, here square each element"
      ]
    },
    {
      "cell_type": "code",
      "execution_count": null,
      "metadata": {
        "id": "ROYHMRE3Y55L"
      },
      "outputs": [],
      "source": [
        "for i in l:\n",
        "    j = i*2 #assign new variable before printing\n",
        "    print(j)"
      ]
    },
    {
      "cell_type": "code",
      "execution_count": null,
      "metadata": {
        "id": "q-p9fBBUY55L"
      },
      "outputs": [],
      "source": [
        "count = 0 #same as len(l)\n",
        "for _ in l:\n",
        "    count += 1"
      ]
    },
    {
      "cell_type": "code",
      "execution_count": null,
      "metadata": {
        "id": "YlwDfjwNY55L"
      },
      "outputs": [],
      "source": [
        "count"
      ]
    },
    {
      "cell_type": "code",
      "execution_count": null,
      "metadata": {
        "id": "hqOklEGhY55L"
      },
      "outputs": [],
      "source": [
        "d = \"Dog\"\n",
        "d"
      ]
    },
    {
      "cell_type": "code",
      "execution_count": null,
      "metadata": {
        "id": "U0GUgEaFY55L"
      },
      "outputs": [],
      "source": [
        "for element in d: #iteration over string object\n",
        "    print(element)"
      ]
    },
    {
      "cell_type": "code",
      "execution_count": null,
      "metadata": {
        "id": "92orA7eVY55M"
      },
      "outputs": [],
      "source": [
        "for i in d: #iteration over string object(2)\n",
        "    print(i.upper())"
      ]
    },
    {
      "cell_type": "code",
      "execution_count": null,
      "metadata": {
        "id": "BbRWrNogY55M"
      },
      "outputs": [],
      "source": [
        "count = 0 #iteration over string object(3)\n",
        "for _ in d:\n",
        "    count = count+1"
      ]
    },
    {
      "cell_type": "code",
      "execution_count": null,
      "metadata": {
        "id": "kV13G67sY55M"
      },
      "outputs": [],
      "source": [
        "count"
      ]
    },
    {
      "cell_type": "code",
      "execution_count": null,
      "metadata": {
        "id": "nJ7RH4kdY55M"
      },
      "outputs": [],
      "source": [
        "g = range(1,5) #creating a range object (\"storing\" integers from 1 (incl.) to 5 (excl.))\n",
        "g"
      ]
    },
    {
      "cell_type": "code",
      "execution_count": null,
      "metadata": {
        "id": "rCG2LeHUY55M"
      },
      "outputs": [],
      "source": [
        "type(g) #range object"
      ]
    },
    {
      "cell_type": "code",
      "execution_count": null,
      "metadata": {
        "id": "OsWAuiV-Y55M"
      },
      "outputs": [],
      "source": [
        "list(g) #calling a range object by creating a list"
      ]
    },
    {
      "cell_type": "code",
      "execution_count": null,
      "metadata": {
        "id": "lmrqeIAlY55M"
      },
      "outputs": [],
      "source": [
        "for i in range(1,5): #iterating from 1 (incl.) till 5 (excl.) -> 4 iterations\n",
        "    print(i)"
      ]
    },
    {
      "cell_type": "code",
      "execution_count": null,
      "metadata": {
        "id": "8VL97ewBY55N"
      },
      "outputs": [],
      "source": [
        "for i in range(5): #creating 5 iterations\n",
        "    print(i)"
      ]
    },
    {
      "cell_type": "code",
      "execution_count": null,
      "metadata": {
        "id": "KUv5PA1zY55N"
      },
      "outputs": [],
      "source": [
        "for i in range(0,10,3): #from 0 to 10 (excl.), every third element\n",
        "    print(i)"
      ]
    },
    {
      "cell_type": "code",
      "execution_count": null,
      "metadata": {
        "id": "Y8V0gOaXY55N"
      },
      "outputs": [],
      "source": [
        "for i in range(1,11): #flexible operations\n",
        "    print(i*2)"
      ]
    },
    {
      "cell_type": "code",
      "execution_count": null,
      "metadata": {
        "id": "Bv4pKH68Y55N"
      },
      "outputs": [],
      "source": [
        "l = [] #store square numbers from 1 till 10 in a list\n",
        "for i in range(1,11):\n",
        "    square = i**2\n",
        "    l.append(square)"
      ]
    },
    {
      "cell_type": "code",
      "execution_count": null,
      "metadata": {
        "id": "XZGqBu0VY55N"
      },
      "outputs": [],
      "source": [
        "l"
      ]
    },
    {
      "cell_type": "code",
      "execution_count": null,
      "metadata": {
        "id": "T4nT9evXY55N"
      },
      "outputs": [],
      "source": [
        "[i**2 for i in range(1,11)] #List Comprehension does the same job!"
      ]
    },
    {
      "cell_type": "code",
      "execution_count": null,
      "metadata": {
        "id": "LQnT5eE_Y55O"
      },
      "outputs": [],
      "source": [
        "count = 0 #count all numbers between 0 and 10000 that are divisible by 2 and 5 without remainder\n",
        "for i in range(10000+1):\n",
        "    if (i%2==0) & (i%5==0):\n",
        "        count+=1"
      ]
    },
    {
      "cell_type": "code",
      "execution_count": null,
      "metadata": {
        "id": "gsLmjzJqY55O"
      },
      "outputs": [],
      "source": [
        "count"
      ]
    },
    {
      "cell_type": "markdown",
      "metadata": {
        "collapsed": true,
        "id": "UdMNXoERY55O"
      },
      "source": [
        "### continue, break and pass"
      ]
    },
    {
      "cell_type": "code",
      "execution_count": null,
      "metadata": {
        "id": "KRB85e5eY55O"
      },
      "outputs": [],
      "source": [
        "l = [1,3,5,7,10,11,13,14,15]\n",
        "l"
      ]
    },
    {
      "cell_type": "code",
      "execution_count": null,
      "metadata": {
        "id": "6nJhImnmY55O"
      },
      "outputs": [],
      "source": [
        "for i in l: #finding the first even element in l\n",
        "    if i%2 == 0:\n",
        "        print(\"The first even element is {}!\".format(i))\n",
        "        break #if the condition is met once, stop iterating!\n",
        "    else:\n",
        "        print(\"{} is odd!\".format(i))"
      ]
    },
    {
      "cell_type": "code",
      "execution_count": null,
      "metadata": {
        "id": "3CPW5j7FY55O"
      },
      "outputs": [],
      "source": [
        "for i in l: #finding the first even element in l\n",
        "    if i%2 == 0:\n",
        "        print(\"The first even element is {}!\".format(i))\n",
        "        break"
      ]
    },
    {
      "cell_type": "code",
      "execution_count": null,
      "metadata": {
        "id": "6awmjW8yY55O"
      },
      "outputs": [],
      "source": [
        "for i in l: #finding the first even element in l\n",
        "    if i%2 != 0:\n",
        "        pass #do nothing, ignore\n",
        "    else:\n",
        "        print(\"The first even element is {}!\".format(i))\n",
        "        break"
      ]
    },
    {
      "cell_type": "code",
      "execution_count": null,
      "metadata": {
        "id": "m1pijezkY55P"
      },
      "outputs": [],
      "source": [
        "for i in l: #finding the first even element in l\n",
        "    if i%2 != 0:\n",
        "        continue\n",
        "        print(i)\n",
        "    else:\n",
        "        print(\"The first even element is {}!\".format(i))\n",
        "        break"
      ]
    },
    {
      "cell_type": "code",
      "execution_count": null,
      "metadata": {
        "id": "W9BXHxMfY55P"
      },
      "outputs": [],
      "source": [
        "for i in l: #finding the first even element in l\n",
        "    if i == 10:\n",
        "        continue #ignore and continue immediately with next element\n",
        "    if i%2 == 0:\n",
        "        print(\"The first even element is {}!\".format(i))\n",
        "        break\n",
        "    else:\n",
        "        print(\"{} is odd!\".format(i))"
      ]
    },
    {
      "cell_type": "markdown",
      "metadata": {
        "collapsed": true,
        "id": "35VP5jVaY55P"
      },
      "source": [
        "## 12 Generating Random Numbers"
      ]
    },
    {
      "cell_type": "code",
      "execution_count": null,
      "metadata": {
        "id": "BTga4OBbY55P"
      },
      "outputs": [],
      "source": [
        "import random #imports random module"
      ]
    },
    {
      "cell_type": "code",
      "execution_count": null,
      "metadata": {
        "id": "HyB5ZA9fY55P"
      },
      "outputs": [],
      "source": [
        "random.random() #generates random float in interval 0 to 1"
      ]
    },
    {
      "cell_type": "code",
      "execution_count": null,
      "metadata": {
        "id": "KjR60Q2PY55P"
      },
      "outputs": [],
      "source": [
        "random.seed(10) #setting a random-seed and generate \"pseudo-random\" numbers\n",
        "random.random()"
      ]
    },
    {
      "cell_type": "code",
      "execution_count": null,
      "metadata": {
        "id": "u_IlzU0eY55P"
      },
      "outputs": [],
      "source": [
        "random.randint(1,6) #generating a random integer in range 1 to 100 (both including)"
      ]
    },
    {
      "cell_type": "code",
      "execution_count": null,
      "metadata": {
        "id": "TEyA1iDYY55P"
      },
      "outputs": [],
      "source": [
        "l = [] #creating a list with 10 random integers in range 1 to 100 (both including)\n",
        "random.seed(123)\n",
        "for _ in range(10):\n",
        "    random_int = random.randint(1,6)\n",
        "    l.append(random_int)"
      ]
    },
    {
      "cell_type": "code",
      "execution_count": null,
      "metadata": {
        "scrolled": true,
        "id": "hL2kk0QnY55P"
      },
      "outputs": [],
      "source": [
        "l"
      ]
    },
    {
      "cell_type": "code",
      "execution_count": null,
      "metadata": {
        "id": "FKh_7qrFY55Q"
      },
      "outputs": [],
      "source": [
        "len(l)"
      ]
    },
    {
      "cell_type": "code",
      "execution_count": null,
      "metadata": {
        "id": "LTMsYzw1Y55Q"
      },
      "outputs": [],
      "source": [
        "random.normalvariate(10, 5) #creating normal distributed random numberswith mean = 10 and std = 5"
      ]
    },
    {
      "cell_type": "markdown",
      "metadata": {
        "id": "NIulUDBbY55Q"
      },
      "source": [
        "## 13 User defined Functions"
      ]
    },
    {
      "cell_type": "code",
      "execution_count": null,
      "metadata": {
        "id": "xhAyFw1XY55Q"
      },
      "outputs": [],
      "source": [
        "l = [3,2,5,6] #create list l"
      ]
    },
    {
      "cell_type": "code",
      "execution_count": null,
      "metadata": {
        "id": "erU2LkLSY55Q"
      },
      "outputs": [],
      "source": [
        "print(l) #function print()"
      ]
    },
    {
      "cell_type": "code",
      "execution_count": null,
      "metadata": {
        "id": "WPA5susIY55Q"
      },
      "outputs": [],
      "source": [
        "l = sorted(l) #function sorted()"
      ]
    },
    {
      "cell_type": "code",
      "execution_count": null,
      "metadata": {
        "id": "D11P4mMyY55Q"
      },
      "outputs": [],
      "source": [
        "l.append(7) #built-in list method"
      ]
    },
    {
      "cell_type": "code",
      "execution_count": null,
      "metadata": {
        "id": "TXUvZUY_Y55R"
      },
      "outputs": [],
      "source": [
        "len(l) #function len()"
      ]
    },
    {
      "cell_type": "code",
      "execution_count": null,
      "metadata": {
        "id": "FDfSJHnnY55R"
      },
      "outputs": [],
      "source": [
        "min(l) #function min()"
      ]
    },
    {
      "cell_type": "code",
      "execution_count": null,
      "metadata": {
        "id": "Qe89HobeY55R"
      },
      "outputs": [],
      "source": [
        "max(l) #function max()"
      ]
    },
    {
      "cell_type": "code",
      "execution_count": null,
      "metadata": {
        "id": "GdQ6QGJjY55R"
      },
      "outputs": [],
      "source": [
        "sum(l) #function sum()"
      ]
    },
    {
      "cell_type": "code",
      "execution_count": null,
      "metadata": {
        "id": "H_w5ujpOY55R"
      },
      "outputs": [],
      "source": [
        "mean(l) #function mean() -> does not exist"
      ]
    },
    {
      "cell_type": "code",
      "execution_count": null,
      "metadata": {
        "id": "4BaTHjOkY55R"
      },
      "outputs": [],
      "source": [
        "def mean(x):\n",
        "    mean = sum(x) / len(x) #calculating mean(l) with sum(l) / len(l)\n",
        "    return mean"
      ]
    },
    {
      "cell_type": "code",
      "execution_count": null,
      "metadata": {
        "id": "247LRvyoY55R"
      },
      "outputs": [],
      "source": [
        "def mean(x): #defining function mean() with parameter x, which calculates the mean value of sequence x\n",
        "    return sum(x) / len(x)"
      ]
    },
    {
      "cell_type": "code",
      "execution_count": null,
      "metadata": {
        "id": "DSnFiJnjY55R"
      },
      "outputs": [],
      "source": [
        "mean(l) #calling the function by passing the argument l to the function"
      ]
    },
    {
      "cell_type": "code",
      "execution_count": null,
      "metadata": {
        "id": "zz0PQA8UY55R"
      },
      "outputs": [],
      "source": [
        "mean(x = l) #same as above (argument l for parameter x)"
      ]
    },
    {
      "cell_type": "code",
      "execution_count": null,
      "metadata": {
        "id": "6ZlXSrFEY55R"
      },
      "outputs": [],
      "source": [
        "t = (4,5,6,7)"
      ]
    },
    {
      "cell_type": "code",
      "execution_count": null,
      "metadata": {
        "id": "2ZkIsawBY55S"
      },
      "outputs": [],
      "source": [
        "mean(t) #works as well with tuples"
      ]
    },
    {
      "cell_type": "code",
      "execution_count": null,
      "metadata": {
        "id": "-exSMVmWY55S"
      },
      "outputs": [],
      "source": []
    },
    {
      "cell_type": "code",
      "execution_count": null,
      "metadata": {
        "id": "0dOIsZs5Y55S"
      },
      "outputs": [],
      "source": [
        "a = 8"
      ]
    },
    {
      "cell_type": "code",
      "execution_count": null,
      "metadata": {
        "id": "YgsVThiLY55S"
      },
      "outputs": [],
      "source": [
        "a**2"
      ]
    },
    {
      "cell_type": "code",
      "execution_count": null,
      "metadata": {
        "id": "Q_T5Mp8-Y55S"
      },
      "outputs": [],
      "source": [
        "def square(x): #parameter x without default value\n",
        "    return x**2"
      ]
    },
    {
      "cell_type": "code",
      "execution_count": null,
      "metadata": {
        "id": "JcSpdSxiY55S"
      },
      "outputs": [],
      "source": [
        "square(4) #calling the function by passing the argument 4"
      ]
    },
    {
      "cell_type": "code",
      "execution_count": null,
      "metadata": {
        "id": "6bKXmpSSY55S"
      },
      "outputs": [],
      "source": [
        "square(x = 4) #same as above"
      ]
    },
    {
      "cell_type": "code",
      "execution_count": null,
      "metadata": {
        "id": "LaANxLiXY55S"
      },
      "outputs": [],
      "source": [
        "square() #no default value defined -> Error"
      ]
    },
    {
      "cell_type": "code",
      "execution_count": null,
      "metadata": {
        "id": "nGUKBP-VY55S"
      },
      "outputs": [],
      "source": [
        "def square2(x = 2): #parameter x with default value\n",
        "    return x**2"
      ]
    },
    {
      "cell_type": "code",
      "execution_count": null,
      "metadata": {
        "id": "K07FC72fY55S"
      },
      "outputs": [],
      "source": [
        "square2() #can be called with default value 2"
      ]
    },
    {
      "cell_type": "code",
      "execution_count": null,
      "metadata": {
        "id": "V66IBPefY55T"
      },
      "outputs": [],
      "source": [
        "square2(4) #can be called with new argument 4"
      ]
    },
    {
      "cell_type": "code",
      "execution_count": null,
      "metadata": {
        "id": "iG6eYViBY55T"
      },
      "outputs": [],
      "source": [
        "square2(x = 4) #same as above"
      ]
    },
    {
      "cell_type": "code",
      "execution_count": null,
      "metadata": {
        "id": "p3N4qC0IY55T"
      },
      "outputs": [],
      "source": [
        "def power(x,y): #function can have more than one parameter\n",
        "    return x**y"
      ]
    },
    {
      "cell_type": "code",
      "execution_count": null,
      "metadata": {
        "id": "V4cru5jaY55T"
      },
      "outputs": [],
      "source": [
        "power(2,7) #call the function with argument 2 for parameter x and argument 7 for parameter y (2 positional arguments)"
      ]
    },
    {
      "cell_type": "code",
      "execution_count": null,
      "metadata": {
        "id": "1Zh6jDVNY55T"
      },
      "outputs": [],
      "source": [
        "power(x = 2, y = 7) #same as above (2 keyword arguments)"
      ]
    },
    {
      "cell_type": "code",
      "execution_count": null,
      "metadata": {
        "id": "BH0U6mY_Y55T"
      },
      "outputs": [],
      "source": [
        "power(y = 7, x = 2) #can change position of keyword arguments"
      ]
    },
    {
      "cell_type": "code",
      "execution_count": null,
      "metadata": {
        "id": "x8gGwxNkY55T"
      },
      "outputs": [],
      "source": [
        "power(x = 2, 7) #keyword arguments must follow positional arguments!!!"
      ]
    },
    {
      "cell_type": "code",
      "execution_count": null,
      "metadata": {
        "id": "pHSP7EP3Y55U"
      },
      "outputs": [],
      "source": [
        "power(2, y = 7) #keyword arguments must follow positional arguments!!!"
      ]
    },
    {
      "cell_type": "code",
      "execution_count": null,
      "metadata": {
        "id": "TI1smyDpY55U"
      },
      "outputs": [],
      "source": [
        "def power2(x = 2, y = 7): #two parameters with default values\n",
        "    return x**y"
      ]
    },
    {
      "cell_type": "code",
      "execution_count": null,
      "metadata": {
        "id": "07pPmlH2Y55U"
      },
      "outputs": [],
      "source": [
        "power2() #function call with default values"
      ]
    },
    {
      "cell_type": "code",
      "execution_count": null,
      "metadata": {
        "id": "H5jVWlsoY55U"
      },
      "outputs": [],
      "source": [
        "power2(3,2) #function call with new values (2 positional arguments)"
      ]
    },
    {
      "cell_type": "code",
      "execution_count": null,
      "metadata": {
        "id": "J6hF0e1iY55U"
      },
      "outputs": [],
      "source": [
        "power2(x = 3, y = 2) #function call with new values (2 keyword arguments)"
      ]
    },
    {
      "cell_type": "code",
      "execution_count": null,
      "metadata": {
        "id": "4ms8DyQaY55V"
      },
      "outputs": [],
      "source": [
        "power2(x = 3) #changing parameter x:(1) new value for keyword parameter x and default value for parameter y"
      ]
    },
    {
      "cell_type": "code",
      "execution_count": null,
      "metadata": {
        "id": "xBC9XSd1Y55V"
      },
      "outputs": [],
      "source": [
        "power2(3) #changing parameter x:(2) new value for positional parameter x and default value for parameter y"
      ]
    },
    {
      "cell_type": "code",
      "execution_count": null,
      "metadata": {
        "id": "n2QhTu6mY55V"
      },
      "outputs": [],
      "source": [
        "power2(3, x = 2)  #changing parameter y:(1) multiple values for x (positional & keyword argument)"
      ]
    },
    {
      "cell_type": "code",
      "execution_count": null,
      "metadata": {
        "id": "ErVZLWUnY55V"
      },
      "outputs": [],
      "source": [
        "power2(x = 2, 3)   #changing parameter y:(2) keyword arguments must follow positional arguments!!!"
      ]
    },
    {
      "cell_type": "code",
      "execution_count": null,
      "metadata": {
        "id": "w4Pz-itIY55V"
      },
      "outputs": [],
      "source": [
        "power2(y = 3)   #changing parameter y:(3) one default value for x,  keyword argument for y"
      ]
    },
    {
      "cell_type": "code",
      "execution_count": null,
      "metadata": {
        "id": "at2YZ3YwY55V"
      },
      "outputs": [],
      "source": [
        "power2(x = 2, y = 3) #changing parameter y:(4) two keyword arguments -> BEST PRACTICE!!!"
      ]
    },
    {
      "cell_type": "code",
      "execution_count": null,
      "metadata": {
        "id": "-Q8J2_idY55W"
      },
      "outputs": [],
      "source": [
        "z = power2(x = 2, y = 3) #can assign return value of function to new variable\n",
        "z"
      ]
    },
    {
      "cell_type": "code",
      "execution_count": null,
      "metadata": {
        "id": "1kYlHhVXY55W"
      },
      "outputs": [],
      "source": [
        "def calc(x,y): #can return multiple values\n",
        "    return x+y, x-y, x*y"
      ]
    },
    {
      "cell_type": "code",
      "execution_count": null,
      "metadata": {
        "id": "i0Sl60pWY55W"
      },
      "outputs": [],
      "source": [
        "calc(5,2) #returns tuple"
      ]
    },
    {
      "cell_type": "code",
      "execution_count": null,
      "metadata": {
        "id": "Op9rC00EY55W"
      },
      "outputs": [],
      "source": [
        "def calc2(x,y): #same as above\n",
        "    add = x+y\n",
        "    sub = x-y\n",
        "    mult = x*y\n",
        "    return add, sub, mult"
      ]
    },
    {
      "cell_type": "code",
      "execution_count": null,
      "metadata": {
        "id": "ZDI7dfRgY55W"
      },
      "outputs": [],
      "source": [
        "calc2(5,2)"
      ]
    },
    {
      "cell_type": "code",
      "execution_count": null,
      "metadata": {
        "id": "AsgpujUYY55X"
      },
      "outputs": [],
      "source": [
        "c = calc2(5,2) #assign results tuple to variable c\n",
        "c"
      ]
    },
    {
      "cell_type": "code",
      "execution_count": null,
      "metadata": {
        "id": "XLeMv5MZY55X"
      },
      "outputs": [],
      "source": [
        "add, sub, mult = c #unpack tuple and assign variables add, sub, mult"
      ]
    },
    {
      "cell_type": "code",
      "execution_count": null,
      "metadata": {
        "id": "keeL83ZoY55X"
      },
      "outputs": [],
      "source": [
        "add"
      ]
    },
    {
      "cell_type": "code",
      "execution_count": null,
      "metadata": {
        "id": "o1qbwgUNY55X"
      },
      "outputs": [],
      "source": [
        "sub"
      ]
    },
    {
      "cell_type": "code",
      "execution_count": null,
      "metadata": {
        "id": "GoOlpYztY55X"
      },
      "outputs": [],
      "source": [
        "mult"
      ]
    },
    {
      "cell_type": "code",
      "execution_count": null,
      "metadata": {
        "id": "WFChj4UCY55X"
      },
      "outputs": [],
      "source": []
    },
    {
      "cell_type": "code",
      "execution_count": null,
      "metadata": {
        "id": "1RsK_bsaY55X"
      },
      "outputs": [],
      "source": [
        "add, sub, mult = calc2(5,2) # calling the fucntion and assigning results to variables add, sub, mult"
      ]
    },
    {
      "cell_type": "code",
      "execution_count": null,
      "metadata": {
        "id": "EzwYlnj0Y55c"
      },
      "outputs": [],
      "source": [
        "add"
      ]
    },
    {
      "cell_type": "code",
      "execution_count": null,
      "metadata": {
        "id": "Wzlw9ZhSY55c"
      },
      "outputs": [],
      "source": [
        "sub"
      ]
    },
    {
      "cell_type": "code",
      "execution_count": null,
      "metadata": {
        "id": "ys_wuWD0Y55c"
      },
      "outputs": [],
      "source": [
        "mult"
      ]
    },
    {
      "cell_type": "code",
      "execution_count": null,
      "metadata": {
        "id": "PnmlHhFfY55c"
      },
      "outputs": [],
      "source": [
        "l = [1,2,3,4,5,6,7]\n",
        "l"
      ]
    },
    {
      "cell_type": "code",
      "execution_count": null,
      "metadata": {
        "id": "FJ2qfS9VY55c"
      },
      "outputs": [],
      "source": [
        "def median(x): #conditional return (returns median value of sequence x)\n",
        "    n = len(x)\n",
        "    if n < 1:\n",
        "            return None\n",
        "    if n % 2 == 1:\n",
        "            return sorted(x)[n//2]\n",
        "    else:\n",
        "            return sum(sorted(x)[n//2-1:n//2+1])/2.0"
      ]
    },
    {
      "cell_type": "code",
      "execution_count": null,
      "metadata": {
        "id": "fw2xiqt0Y55c"
      },
      "outputs": [],
      "source": [
        "median(l)"
      ]
    },
    {
      "cell_type": "code",
      "execution_count": null,
      "metadata": {
        "id": "0EAZbxGBY55c"
      },
      "outputs": [],
      "source": [
        "import random #import random module"
      ]
    },
    {
      "cell_type": "code",
      "execution_count": null,
      "metadata": {
        "id": "-94vUE9aY55d"
      },
      "outputs": [],
      "source": [
        "random.randint(1, 100) #create one random integer in range 1 to 100"
      ]
    },
    {
      "cell_type": "code",
      "execution_count": null,
      "metadata": {
        "id": "Noyo2tQZY55d"
      },
      "outputs": [],
      "source": [
        "def random_generator(size =50, lower_end_point = 1, higher_end_point = 100, seed = 123): #generating many random integers\n",
        "    l = []\n",
        "    random.seed(seed)\n",
        "    for i in range(size):\n",
        "        random_int = random.randint(lower_end_point,higher_end_point)\n",
        "        l.append(random_int)\n",
        "    return l"
      ]
    },
    {
      "cell_type": "code",
      "execution_count": null,
      "metadata": {
        "id": "BLETzsXuY55d"
      },
      "outputs": [],
      "source": [
        "random_generator()"
      ]
    },
    {
      "cell_type": "code",
      "execution_count": null,
      "metadata": {
        "id": "xFu53F_3Y55d"
      },
      "outputs": [],
      "source": [
        "random_generator(10, 100, 200, 100) #calling the function with positional arguments"
      ]
    },
    {
      "cell_type": "code",
      "execution_count": null,
      "metadata": {
        "id": "F5Z0MDZWY55d"
      },
      "outputs": [],
      "source": [
        "#calling the function with keyword arguments, BEST PRACTICE!!!\n",
        "random_generator(size = 10, lower_end_point = 100, higher_end_point = 200, seed =  100)"
      ]
    },
    {
      "cell_type": "markdown",
      "metadata": {
        "collapsed": true,
        "id": "WICik30pY55d"
      },
      "source": [
        "## 14 Visualization with Matplotlib"
      ]
    },
    {
      "cell_type": "code",
      "execution_count": null,
      "metadata": {
        "id": "ZzczTafsY55d"
      },
      "outputs": [],
      "source": [
        "import matplotlib.pyplot as plt #import plotting framwork of matplotlib"
      ]
    },
    {
      "cell_type": "code",
      "execution_count": null,
      "metadata": {
        "id": "1aBnlauyY55d"
      },
      "outputs": [],
      "source": [
        "l = [1,3,5,7,6]\n",
        "l"
      ]
    },
    {
      "cell_type": "code",
      "execution_count": null,
      "metadata": {
        "id": "PIRHketsY55e"
      },
      "outputs": [],
      "source": [
        "plt.plot(l) #create a line plot of l\n",
        "plt.show() #show plot"
      ]
    },
    {
      "cell_type": "code",
      "execution_count": null,
      "metadata": {
        "id": "gVoQpx29Y55e"
      },
      "outputs": [],
      "source": [
        "plt.plot(range(5,10), l) #defines x-axis values for y-axis values l\n",
        "plt.show()"
      ]
    },
    {
      "cell_type": "code",
      "execution_count": null,
      "metadata": {
        "id": "5L6-pBspY55e"
      },
      "outputs": [],
      "source": [
        "plt.scatter(x = range(5), y = l) #creates scatterplot\n",
        "plt.show()"
      ]
    },
    {
      "cell_type": "code",
      "execution_count": null,
      "metadata": {
        "id": "nHyYwb77Y55e"
      },
      "outputs": [],
      "source": [
        "import random"
      ]
    },
    {
      "cell_type": "code",
      "execution_count": null,
      "metadata": {
        "id": "41OZKbMuY55e"
      },
      "outputs": [],
      "source": [
        "random.seed(123)\n",
        "speed_ny = [random.normalvariate(55, 5) for i in range(10000)] #creates 10,000 normal distributed numbers with mean=55 and std=5\n",
        "speed_ny[:10]"
      ]
    },
    {
      "cell_type": "code",
      "execution_count": null,
      "metadata": {
        "id": "qiIunZAHY55e"
      },
      "outputs": [],
      "source": [
        "plt.hist(speed_ny, bins = 100) #creating a histogramm of list speed with 100 bins\n",
        "plt.show()"
      ]
    },
    {
      "cell_type": "code",
      "execution_count": null,
      "metadata": {
        "id": "yd6X2oO-Y55e"
      },
      "outputs": [],
      "source": [
        "plt.style.use(\"seaborn-v0_8\") #change style to seaborn\n",
        "plt.figure(figsize = (12,6)) #change size of graph\n",
        "plt.hist(speed_ny, bins = 100, label = \"New York Data\", alpha = 0.5, color = \"red\") #Histrogramm of NY Data\n",
        "plt.hist(speed_bo, bins = 100, label = \"Boston Data\", alpha = 0.5, color = \"blue\") #Histogramm of Boston Data\n",
        "plt.title(\"Measured Car Speed (Speed Limit 50 mph)\", fontsize = 15) #set title\n",
        "plt.xlabel(\"Speed\") #label x-axis\n",
        "plt.ylabel(\"occurences\") #label y-axis\n",
        "plt.vlines(sum(speed_ny)/len(speed_ny),0,400, color = \"red\", linestyle = \"--\", label = \"Mean New York\") #vertical line at NY mean\n",
        "plt.vlines(sum(speed_bo)/len(speed_bo),0,400, color = \"blue\", linestyle = \"-.\", label = \"Mean Boston\") #vertical line at Boston mean\n",
        "plt.axis((30,90,0,400)) #set range of axis\n",
        "plt.xticks(range(30,91,5)) #set ticks of x-axis\n",
        "plt.yticks(range(0,401,50))  #set ticks of y-axis\n",
        "plt.grid(True) #enable/disable grid\n",
        "plt.legend(loc = \"center right\", fontsize = 13) #include legend\n",
        "plt.show()"
      ]
    },
    {
      "cell_type": "code",
      "execution_count": null,
      "metadata": {
        "id": "uk23F2X8Y55e"
      },
      "outputs": [],
      "source": [
        "speed_bo = [random.normalvariate(60, 8) for i in range(10000)]"
      ]
    },
    {
      "cell_type": "code",
      "execution_count": null,
      "metadata": {
        "id": "z5gTXjTXY55f"
      },
      "outputs": [],
      "source": []
    },
    {
      "cell_type": "markdown",
      "metadata": {
        "id": "l9OCl6aaY55f"
      },
      "source": [
        "https://matplotlib.org/index.html"
      ]
    }
  ],
  "metadata": {
    "kernelspec": {
      "display_name": "Python 3 (ipykernel)",
      "language": "python",
      "name": "python3"
    },
    "language_info": {
      "codemirror_mode": {
        "name": "ipython",
        "version": 3
      },
      "file_extension": ".py",
      "mimetype": "text/x-python",
      "name": "python",
      "nbconvert_exporter": "python",
      "pygments_lexer": "ipython3",
      "version": "3.9.16"
    },
    "colab": {
      "provenance": []
    }
  },
  "nbformat": 4,
  "nbformat_minor": 0
}